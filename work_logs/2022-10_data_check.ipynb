{
 "cells": [
  {
   "cell_type": "code",
   "execution_count": 53,
   "id": "913ff896-aca9-44b8-bd74-07d7f182a46a",
   "metadata": {},
   "outputs": [],
   "source": [
    "import plotly.express as px\n",
    "import pandas as pd\n",
    "import wmfdata as wmf\n",
    "from wmfdata.utils import (\n",
    "    df_to_remarkup,\n",
    "    pct_str,\n",
    "    pd_display_all\n",
    ")\n",
    "\n",
    "import nshahquinn"
   ]
  },
  {
   "cell_type": "code",
   "execution_count": 30,
   "id": "5aacdc83-a6bd-456d-afe6-ad3765bf6c58",
   "metadata": {},
   "outputs": [],
   "source": [
    "nshahquinn.set_plotly_defaults()"
   ]
  },
  {
   "cell_type": "markdown",
   "id": "9d384e42-36e6-4a90-acb3-9a61838b6d93",
   "metadata": {},
   "source": [
    "# Contributor events"
   ]
  },
  {
   "cell_type": "code",
   "execution_count": 2,
   "id": "27872e41-8e2d-41bb-897a-becd84270f19",
   "metadata": {},
   "outputs": [],
   "source": [
    "contributor_event = wmf.presto.run(\"\"\"\n",
    "SELECT\n",
    "    FROM_ISO8601_TIMESTAMP(meta.dt) AS dt,\n",
    "    meta.domain AS domain,\n",
    "    access_method,\n",
    "    context_page_title,\n",
    "    event_type,\n",
    "    publish_failure_message,\n",
    "    story_already_exists,\n",
    "    story_title,\n",
    "    user_edit_count_bucket,\n",
    "    user_is_anonymous,\n",
    "    user_name,\n",
    "    contribution_attempt_id\n",
    "FROM event.mediawiki_wikistories_contribution_event\n",
    "WHERE\n",
    "    year >= 0\n",
    "\"\"\")"
   ]
  },
  {
   "cell_type": "code",
   "execution_count": null,
   "id": "8491c827-b0bf-4cbc-a4e7-ee64ae023f33",
   "metadata": {},
   "outputs": [],
   "source": [
    "contributor_event.describe()"
   ]
  },
  {
   "cell_type": "markdown",
   "id": "7bf4729c-4c1e-443e-914b-22bb57e07ce6",
   "metadata": {},
   "source": [
    "Well, this is bizarre! This field was introduced a few weeks ago, so all the null values are expected. The `codfw` and `eqiad` values are not, though."
   ]
  },
  {
   "cell_type": "code",
   "execution_count": 22,
   "id": "116241b8-6703-44d0-8eaf-94a30462cf2d",
   "metadata": {},
   "outputs": [
    {
     "data": {
      "text/html": [
       "<div>\n",
       "<style scoped>\n",
       "    .dataframe tbody tr th:only-of-type {\n",
       "        vertical-align: middle;\n",
       "    }\n",
       "\n",
       "    .dataframe tbody tr th {\n",
       "        vertical-align: top;\n",
       "    }\n",
       "\n",
       "    .dataframe thead th {\n",
       "        text-align: right;\n",
       "    }\n",
       "</style>\n",
       "<table border=\"1\" class=\"dataframe\">\n",
       "  <thead>\n",
       "    <tr style=\"text-align: right;\">\n",
       "      <th></th>\n",
       "      <th>value</th>\n",
       "      <th>frequency</th>\n",
       "    </tr>\n",
       "  </thead>\n",
       "  <tbody>\n",
       "    <tr>\n",
       "      <th>0</th>\n",
       "      <td>NaN</td>\n",
       "      <td>1340</td>\n",
       "    </tr>\n",
       "    <tr>\n",
       "      <th>1</th>\n",
       "      <td>codfw</td>\n",
       "      <td>1215</td>\n",
       "    </tr>\n",
       "    <tr>\n",
       "      <th>2</th>\n",
       "      <td>eqiad</td>\n",
       "      <td>50</td>\n",
       "    </tr>\n",
       "    <tr>\n",
       "      <th>3</th>\n",
       "      <td>7d4a499adcd850ec5769</td>\n",
       "      <td>3</td>\n",
       "    </tr>\n",
       "    <tr>\n",
       "      <th>4</th>\n",
       "      <td>c8d489b1613f97a9124c</td>\n",
       "      <td>3</td>\n",
       "    </tr>\n",
       "    <tr>\n",
       "      <th>5</th>\n",
       "      <td>ce00b7c2a11114e5ea50</td>\n",
       "      <td>2</td>\n",
       "    </tr>\n",
       "    <tr>\n",
       "      <th>6</th>\n",
       "      <td>92de0c331e9d2d29fae3</td>\n",
       "      <td>2</td>\n",
       "    </tr>\n",
       "    <tr>\n",
       "      <th>7</th>\n",
       "      <td>cdfce631ceeaab2e262c</td>\n",
       "      <td>2</td>\n",
       "    </tr>\n",
       "    <tr>\n",
       "      <th>8</th>\n",
       "      <td>03f21bdc208d425b7ffd</td>\n",
       "      <td>2</td>\n",
       "    </tr>\n",
       "    <tr>\n",
       "      <th>9</th>\n",
       "      <td>88f3a3f6b6b005c520e8</td>\n",
       "      <td>2</td>\n",
       "    </tr>\n",
       "  </tbody>\n",
       "</table>\n",
       "</div>"
      ],
      "text/plain": [
       "                  value  frequency\n",
       "0                   NaN       1340\n",
       "1                 codfw       1215\n",
       "2                 eqiad         50\n",
       "3  7d4a499adcd850ec5769          3\n",
       "4  c8d489b1613f97a9124c          3\n",
       "5  ce00b7c2a11114e5ea50          2\n",
       "6  92de0c331e9d2d29fae3          2\n",
       "7  cdfce631ceeaab2e262c          2\n",
       "8  03f21bdc208d425b7ffd          2\n",
       "9  88f3a3f6b6b005c520e8          2"
      ]
     },
     "execution_count": 22,
     "metadata": {},
     "output_type": "execute_result"
    }
   ],
   "source": [
    "attempt_id = (\n",
    "    contributor_event\n",
    "    [\"contribution_attempt_id\"]\n",
    "    .value_counts(dropna=False)\n",
    "    .head(10)\n",
    "    .to_frame()\n",
    "    .reset_index()\n",
    "    .rename({\n",
    "        \"index\": \"value\",\n",
    "        \"contribution_attempt_id\": \"frequency\"\n",
    "    }, axis=\"columns\")\n",
    ")\n",
    "\n",
    "attempt_id"
   ]
  },
  {
   "cell_type": "markdown",
   "id": "39671097-9c39-438e-a4fb-dd1dfeaccfa8",
   "metadata": {},
   "source": [
    "However, if we only look at the data since the start of the deployment of the code setting this field, those weird values go away. That suggests the problem happened after ingestion, not in the instrumentation code."
   ]
  },
  {
   "cell_type": "code",
   "execution_count": 25,
   "id": "f329aaea-a485-450a-afbf-1438985e4b2b",
   "metadata": {},
   "outputs": [
    {
     "data": {
      "text/html": [
       "<div>\n",
       "<style scoped>\n",
       "    .dataframe tbody tr th:only-of-type {\n",
       "        vertical-align: middle;\n",
       "    }\n",
       "\n",
       "    .dataframe tbody tr th {\n",
       "        vertical-align: top;\n",
       "    }\n",
       "\n",
       "    .dataframe thead th {\n",
       "        text-align: right;\n",
       "    }\n",
       "</style>\n",
       "<table border=\"1\" class=\"dataframe\">\n",
       "  <thead>\n",
       "    <tr style=\"text-align: right;\">\n",
       "      <th></th>\n",
       "      <th>value</th>\n",
       "      <th>frequency</th>\n",
       "    </tr>\n",
       "  </thead>\n",
       "  <tbody>\n",
       "    <tr>\n",
       "      <th>0</th>\n",
       "      <td>NaN</td>\n",
       "      <td>27</td>\n",
       "    </tr>\n",
       "    <tr>\n",
       "      <th>1</th>\n",
       "      <td>7d4a499adcd850ec5769</td>\n",
       "      <td>3</td>\n",
       "    </tr>\n",
       "    <tr>\n",
       "      <th>2</th>\n",
       "      <td>c8d489b1613f97a9124c</td>\n",
       "      <td>3</td>\n",
       "    </tr>\n",
       "    <tr>\n",
       "      <th>3</th>\n",
       "      <td>3bd60ed9a56b8fb2fda0</td>\n",
       "      <td>2</td>\n",
       "    </tr>\n",
       "    <tr>\n",
       "      <th>4</th>\n",
       "      <td>cdfce631ceeaab2e262c</td>\n",
       "      <td>2</td>\n",
       "    </tr>\n",
       "    <tr>\n",
       "      <th>5</th>\n",
       "      <td>65de010762602c8ea53c</td>\n",
       "      <td>2</td>\n",
       "    </tr>\n",
       "    <tr>\n",
       "      <th>6</th>\n",
       "      <td>56e1fecbdd705f7ba006</td>\n",
       "      <td>2</td>\n",
       "    </tr>\n",
       "    <tr>\n",
       "      <th>7</th>\n",
       "      <td>a6c128c4b0315732fbf5</td>\n",
       "      <td>2</td>\n",
       "    </tr>\n",
       "    <tr>\n",
       "      <th>8</th>\n",
       "      <td>92de0c331e9d2d29fae3</td>\n",
       "      <td>2</td>\n",
       "    </tr>\n",
       "    <tr>\n",
       "      <th>9</th>\n",
       "      <td>3aa0bd519016f1a5ed58</td>\n",
       "      <td>2</td>\n",
       "    </tr>\n",
       "  </tbody>\n",
       "</table>\n",
       "</div>"
      ],
      "text/plain": [
       "                  value  frequency\n",
       "0                   NaN         27\n",
       "1  7d4a499adcd850ec5769          3\n",
       "2  c8d489b1613f97a9124c          3\n",
       "3  3bd60ed9a56b8fb2fda0          2\n",
       "4  cdfce631ceeaab2e262c          2\n",
       "5  65de010762602c8ea53c          2\n",
       "6  56e1fecbdd705f7ba006          2\n",
       "7  a6c128c4b0315732fbf5          2\n",
       "8  92de0c331e9d2d29fae3          2\n",
       "9  3aa0bd519016f1a5ed58          2"
      ]
     },
     "execution_count": 25,
     "metadata": {},
     "output_type": "execute_result"
    }
   ],
   "source": [
    "recent_attempt_id = (\n",
    "    contributor_event\n",
    "    .query(\"dt >= '2022-10-17'\")\n",
    "    [\"contribution_attempt_id\"]\n",
    "    .value_counts(dropna=False)\n",
    "    .head(10)\n",
    "    .to_frame()\n",
    "    .reset_index()\n",
    "    .rename({\n",
    "        \"index\": \"value\",\n",
    "        \"contribution_attempt_id\": \"frequency\"\n",
    "    }, axis=\"columns\")\n",
    ")\n",
    "\n",
    "recent_attempt_id"
   ]
  },
  {
   "cell_type": "markdown",
   "id": "d484fcf7-862b-497c-9c43-6a10850a8190",
   "metadata": {},
   "source": [
    "These do seem to be normal events otherwise."
   ]
  },
  {
   "cell_type": "code",
   "execution_count": null,
   "id": "db56b92f-4a38-4828-a036-b4d3b3fb23fc",
   "metadata": {},
   "outputs": [],
   "source": [
    "(\n",
    "    contributor_event\n",
    "    .query(\"contribution_attempt_id in ('codfw', 'eqiad')\")\n",
    "    .sample(10)\n",
    "    .pipe(pd_display_all)\n",
    ")"
   ]
  },
  {
   "cell_type": "markdown",
   "id": "6ce0f3c3-bb4c-4e6a-8c62-123e78533ddc",
   "metadata": {},
   "source": [
    "Ahh, it seems like the datacenter field is getting duplicated into this one?"
   ]
  },
  {
   "cell_type": "code",
   "execution_count": 33,
   "id": "b34ce735-de6b-45dc-bfe5-888ba8f75bcd",
   "metadata": {},
   "outputs": [],
   "source": [
    "attempt_id_datacenter = wmf.presto.run(\"\"\"\n",
    "SELECT\n",
    "    contribution_attempt_id,\n",
    "    datacenter\n",
    "FROM event.mediawiki_wikistories_contribution_event\n",
    "WHERE\n",
    "    year >= 0\n",
    "    AND contribution_attempt_id IN ('codfw', 'eqiad')\n",
    "\"\"\")"
   ]
  },
  {
   "cell_type": "code",
   "execution_count": 34,
   "id": "ef17db90-a955-4832-a5b0-538ee52934fc",
   "metadata": {},
   "outputs": [
    {
     "data": {
      "text/plain": [
       "contribution_attempt_id  datacenter\n",
       "codfw                    codfw         1215\n",
       "eqiad                    eqiad           50\n",
       "dtype: int64"
      ]
     },
     "execution_count": 34,
     "metadata": {},
     "output_type": "execute_result"
    }
   ],
   "source": [
    "attempt_id_datacenter.value_counts(dropna=False)"
   ]
  },
  {
   "cell_type": "markdown",
   "id": "e1b186d1-90b0-4687-8281-f5c2eb885e02",
   "metadata": {},
   "source": [
    "So far, all of the different paths through the funnel that we've recorded look very reasonable."
   ]
  },
  {
   "cell_type": "code",
   "execution_count": 45,
   "id": "d0dacd2b-b141-4e86-b336-58b4f1ddb809",
   "metadata": {},
   "outputs": [
    {
     "data": {
      "text/plain": [
       "story_builder_open                                    68\n",
       "story_builder_open-publish_success                    25\n",
       "story_builder_open-publish_failure-publish_success     2\n",
       "Name: event_type, dtype: int64"
      ]
     },
     "execution_count": 45,
     "metadata": {},
     "output_type": "execute_result"
    }
   ],
   "source": [
    "cai = contributor_event[\"contribution_attempt_id\"].notna()\n",
    "\n",
    "(\n",
    "    contributor_event\n",
    "    .query(\"dt >= '2022-10-17' & @cai\")\n",
    "    .sort_values(\"dt\")\n",
    "    .groupby(\"contribution_attempt_id\")\n",
    "    [\"event_type\"]\n",
    "    .agg(lambda s: \"-\".join(s))\n",
    "    .value_counts()\n",
    ")"
   ]
  },
  {
   "cell_type": "markdown",
   "id": "17260eca-841b-4249-bded-d438a1b6e9df",
   "metadata": {},
   "source": [
    "`story_already_exists` is no longer hardcoded to false."
   ]
  },
  {
   "cell_type": "code",
   "execution_count": 49,
   "id": "ea696191-ec76-42ad-9f1b-eb558889c45d",
   "metadata": {},
   "outputs": [
    {
     "data": {
      "text/plain": [
       "False    321\n",
       "True      40\n",
       "Name: story_already_exists, dtype: int64"
      ]
     },
     "execution_count": 49,
     "metadata": {},
     "output_type": "execute_result"
    }
   ],
   "source": [
    "(\n",
    "    contributor_event\n",
    "    .query(\"dt >= '2022-10-03' & event_type == 'publish_success'\")\n",
    "    [\"story_already_exists\"]\n",
    "    .value_counts()\n",
    ")"
   ]
  },
  {
   "cell_type": "markdown",
   "id": "ae6cb2cf-8891-4956-9c54-a444440493d5",
   "metadata": {},
   "source": [
    "For this sample, the values of `story_already_exists` match the on-wiki history."
   ]
  },
  {
   "cell_type": "code",
   "execution_count": null,
   "id": "a0110a3e-078f-45e2-aae3-bf2272c58412",
   "metadata": {},
   "outputs": [],
   "source": [
    "(\n",
    "    contributor_event\n",
    "    .query(\"dt >= '2022-10-03' & event_type == 'publish_success'\")\n",
    "    .sample(10)\n",
    "    [[\"dt\", \"story_title\", \"user_name\", \"story_already_exists\"]]\n",
    ")"
   ]
  },
  {
   "cell_type": "markdown",
   "id": "10f3d9d1-14fa-477f-bd10-604cd53dafaa",
   "metadata": {},
   "source": [
    "# Consumer event"
   ]
  },
  {
   "cell_type": "code",
   "execution_count": 19,
   "id": "c12b63d1-1905-4fdd-a6a4-ecba1a7ccb40",
   "metadata": {},
   "outputs": [],
   "source": [
    "consumer_events = wmf.presto.run(\"\"\"\n",
    "SELECT\n",
    "    FROM_ISO8601_TIMESTAMP(meta.dt) AS dt,\n",
    "    meta.domain AS domain,\n",
    "    access_method,\n",
    "    activity_session_id,\n",
    "    event_type,\n",
    "    experiment_entry_date,\n",
    "    experiment_group,\n",
    "    next_story_opened,\n",
    "    page_story_count,\n",
    "    page_title,\n",
    "    page_visible_time,\n",
    "    pageview_id,\n",
    "    referrer_type,\n",
    "    session_days,\n",
    "    session_is_first_of_day,\n",
    "    story_completed,\n",
    "    story_frame_count,\n",
    "    story_frames_viewed,\n",
    "    story_open_time,\n",
    "    story_title\n",
    "FROM event.mediawiki_wikistories_consumption_event\n",
    "WHERE\n",
    "    year >= 0\n",
    "\"\"\").assign(\n",
    "    dt=lambda df: pd.to_datetime(df[\"dt\"])\n",
    ")"
   ]
  },
  {
   "cell_type": "code",
   "execution_count": 20,
   "id": "b3e4b13b-cc3e-4ef4-9be1-5e1c0dc6b2a6",
   "metadata": {},
   "outputs": [
    {
     "name": "stdout",
     "output_type": "stream",
     "text": [
      "<class 'pandas.core.frame.DataFrame'>\n",
      "RangeIndex: 5440 entries, 0 to 5439\n",
      "Data columns (total 20 columns):\n",
      " #   Column                   Non-Null Count  Dtype              \n",
      "---  ------                   --------------  -----              \n",
      " 0   dt                       5440 non-null   datetime64[ns, UTC]\n",
      " 1   domain                   5440 non-null   object             \n",
      " 2   access_method            5440 non-null   object             \n",
      " 3   activity_session_id      5440 non-null   object             \n",
      " 4   event_type               5440 non-null   object             \n",
      " 5   experiment_entry_date    0 non-null      object             \n",
      " 6   experiment_group         0 non-null      object             \n",
      " 7   next_story_opened        0 non-null      object             \n",
      " 8   page_story_count         5440 non-null   int64              \n",
      " 9   page_title               5440 non-null   object             \n",
      " 10  page_visible_time        0 non-null      object             \n",
      " 11  pageview_id              5440 non-null   object             \n",
      " 12  referrer_type            0 non-null      object             \n",
      " 13  session_days             0 non-null      object             \n",
      " 14  session_is_first_of_day  0 non-null      object             \n",
      " 15  story_completed          2170 non-null   object             \n",
      " 16  story_frame_count        2170 non-null   float64            \n",
      " 17  story_frames_viewed      2170 non-null   float64            \n",
      " 18  story_open_time          2170 non-null   float64            \n",
      " 19  story_title              2170 non-null   object             \n",
      "dtypes: datetime64[ns, UTC](1), float64(3), int64(1), object(15)\n",
      "memory usage: 850.1+ KB\n"
     ]
    }
   ],
   "source": [
    "consumer_events.info()"
   ]
  },
  {
   "cell_type": "code",
   "execution_count": 21,
   "id": "ba728908-fe64-4a04-8800-2d3cf2166685",
   "metadata": {},
   "outputs": [
    {
     "data": {
      "text/plain": [
       "story_impression    3270\n",
       "story_view          2170\n",
       "Name: event_type, dtype: int64"
      ]
     },
     "execution_count": 21,
     "metadata": {},
     "output_type": "execute_result"
    }
   ],
   "source": [
    "consumer_events[\"event_type\"].value_counts()"
   ]
  },
  {
   "cell_type": "markdown",
   "id": "7634da07-5e46-4a0f-a2ad-4896aad42492",
   "metadata": {},
   "source": [
    "Only story view events have `story_open_time` logged."
   ]
  },
  {
   "cell_type": "code",
   "execution_count": 22,
   "id": "89bddd55-8d51-4fc3-bc1f-4e9e217cb1c6",
   "metadata": {},
   "outputs": [
    {
     "data": {
      "text/plain": [
       "story_view    2170\n",
       "Name: event_type, dtype: int64"
      ]
     },
     "execution_count": 22,
     "metadata": {},
     "output_type": "execute_result"
    }
   ],
   "source": [
    "(\n",
    "    consumer_events\n",
    "    [lambda df: df[\"story_open_time\"].notna()]\n",
    "    [\"event_type\"]\n",
    "    .value_counts()\n",
    ")"
   ]
  },
  {
   "cell_type": "markdown",
   "id": "57440a53-734d-4fa7-89ae-108c8de88ea2",
   "metadata": {},
   "source": [
    "All story_view events have a `story_open_time`."
   ]
  },
  {
   "cell_type": "code",
   "execution_count": 23,
   "id": "8c855c8e-64e7-48f9-88ab-d9a8a8db2803",
   "metadata": {},
   "outputs": [
    {
     "data": {
      "text/html": [
       "<div>\n",
       "<style scoped>\n",
       "    .dataframe tbody tr th:only-of-type {\n",
       "        vertical-align: middle;\n",
       "    }\n",
       "\n",
       "    .dataframe tbody tr th {\n",
       "        vertical-align: top;\n",
       "    }\n",
       "\n",
       "    .dataframe thead th {\n",
       "        text-align: right;\n",
       "    }\n",
       "</style>\n",
       "<table border=\"1\" class=\"dataframe\">\n",
       "  <thead>\n",
       "    <tr style=\"text-align: right;\">\n",
       "      <th></th>\n",
       "      <th>dt</th>\n",
       "      <th>domain</th>\n",
       "      <th>access_method</th>\n",
       "      <th>activity_session_id</th>\n",
       "      <th>event_type</th>\n",
       "      <th>experiment_entry_date</th>\n",
       "      <th>experiment_group</th>\n",
       "      <th>next_story_opened</th>\n",
       "      <th>page_story_count</th>\n",
       "      <th>page_title</th>\n",
       "      <th>page_visible_time</th>\n",
       "      <th>pageview_id</th>\n",
       "      <th>referrer_type</th>\n",
       "      <th>session_days</th>\n",
       "      <th>session_is_first_of_day</th>\n",
       "      <th>story_completed</th>\n",
       "      <th>story_frame_count</th>\n",
       "      <th>story_frames_viewed</th>\n",
       "      <th>story_open_time</th>\n",
       "      <th>story_title</th>\n",
       "    </tr>\n",
       "  </thead>\n",
       "  <tbody>\n",
       "  </tbody>\n",
       "</table>\n",
       "</div>"
      ],
      "text/plain": [
       "Empty DataFrame\n",
       "Columns: [dt, domain, access_method, activity_session_id, event_type, experiment_entry_date, experiment_group, next_story_opened, page_story_count, page_title, page_visible_time, pageview_id, referrer_type, session_days, session_is_first_of_day, story_completed, story_frame_count, story_frames_viewed, story_open_time, story_title]\n",
       "Index: []"
      ]
     },
     "execution_count": 23,
     "metadata": {},
     "output_type": "execute_result"
    }
   ],
   "source": [
    "(\n",
    "    consumer_events\n",
    "    .query(\"event_type == 'story_view'\")\n",
    "    [lambda df: df[\"story_open_time\"].isna()]\n",
    ")"
   ]
  },
  {
   "cell_type": "markdown",
   "id": "fcaea550-14ec-41ff-aa93-bb5a4dfa595e",
   "metadata": {},
   "source": [
    "Successive story open times within the same pageview do not always increase, which means the `story_open_time` is calculated indepedently for each story rather than being cumulative. I will have to note that in the schema documentation."
   ]
  },
  {
   "cell_type": "code",
   "execution_count": 24,
   "id": "33ba06e3-c77c-488b-9c7b-4bd34158b732",
   "metadata": {},
   "outputs": [
    {
     "data": {
      "text/plain": [
       "pageview_id\n",
       "1ecd7c4602afd7281e1b                   22\n",
       "7d9fdf5fdf4601b3ccc8       16, 2, 8, 4, 6\n",
       "38653ffac51dbb4c6539                    2\n",
       "737af27a80c19c9acd28                    6\n",
       "ab32b01f4615763fa4f3                   20\n",
       "03cb9ac6da5c6ffb67dd                   32\n",
       "9da76786fd339c4d3423                   62\n",
       "90c3cafec1e30eb80de7                14, 1\n",
       "18a15976b528bf403862                   19\n",
       "765341440f7c30d1af28                    2\n",
       "09acedd452d01b87b53e                    4\n",
       "f8200d61a49e0aa2b41d                   23\n",
       "19bdd1405b4ccf12b823             9, 10, 3\n",
       "217148c727f2da2b2bdd                  612\n",
       "f86b79c1b6e3ed4f67fc    2, 11, 3, 6, 2, 2\n",
       "3cf81929d85943f9b37c                    3\n",
       "b7d4e7e3bcbc5fb7c00b                    2\n",
       "0e4e412016192023e322            27, 8, 50\n",
       "5a255b3c0a302531636f                    9\n",
       "2d0bfcf97680d63fa6cd                   52\n",
       "b0bd792897add400c739                11, 5\n",
       "e397650769d80bad4c5f           10, 14, 10\n",
       "27ffd3bb641f7f2f23e5                    7\n",
       "bacfe029f872e869e7a5                    4\n",
       "48e5fc0a03cadfc21e4b                   16\n",
       "Name: story_open_time, dtype: object"
      ]
     },
     "execution_count": 24,
     "metadata": {},
     "output_type": "execute_result"
    }
   ],
   "source": [
    "(\n",
    "    consumer_events\n",
    "    .query(\"event_type == 'story_view'\")\n",
    "    .assign(story_open_time=lambda df: (df[\"story_open_time\"] / 1000).round().astype(int))\n",
    "    .sort_values(\"dt\")\n",
    "    .groupby(\"pageview_id\")\n",
    "    [\"story_open_time\"]\n",
    "    .agg(lambda s: \", \".join(s.astype(str)))\n",
    "    .sample(25)\n",
    ")"
   ]
  },
  {
   "cell_type": "code",
   "execution_count": 25,
   "id": "ec533b10-344f-48de-a947-4de35bdf94d2",
   "metadata": {},
   "outputs": [
    {
     "data": {
      "text/plain": [
       "Museum_Sejarah_Jawa                      314\n",
       "Museum_Sonobudoyo                        235\n",
       "Museum_Pusat_TNI_AD_\"Dharma_Wiratama\"    161\n",
       "Kekhalifahan_Rasyidin                    159\n",
       "Kucing                                   149\n",
       "                                        ... \n",
       "Jalangkote                                 1\n",
       "Ki_Hadjar_Dewantara                        1\n",
       "Grotta_Azzurra                             1\n",
       "Stasiun_Padang                             1\n",
       "Max_Verstappen                             1\n",
       "Name: page_title, Length: 433, dtype: int64"
      ]
     },
     "execution_count": 25,
     "metadata": {},
     "output_type": "execute_result"
    }
   ],
   "source": [
    "consumer_events[\"page_title\"].value_counts()"
   ]
  },
  {
   "cell_type": "code",
   "execution_count": 26,
   "id": "0a4a9c1f-2ed7-4c11-8528-f29788cd60a4",
   "metadata": {},
   "outputs": [
    {
     "data": {
      "text/plain": [
       "count    5440.000000\n",
       "mean        2.798346\n",
       "std         2.671504\n",
       "min         1.000000\n",
       "25%         1.000000\n",
       "50%         1.000000\n",
       "75%         4.000000\n",
       "max        10.000000\n",
       "Name: page_story_count, dtype: float64"
      ]
     },
     "execution_count": 26,
     "metadata": {},
     "output_type": "execute_result"
    }
   ],
   "source": [
    "consumer_events[\"page_story_count\"].describe()"
   ]
  },
  {
   "cell_type": "code",
   "execution_count": 31,
   "id": "05411fdb-0a76-4ead-9070-3dae3cd070a8",
   "metadata": {},
   "outputs": [
    {
     "data": {
      "text/html": [
       "<div>\n",
       "<style scoped>\n",
       "    .dataframe tbody tr th:only-of-type {\n",
       "        vertical-align: middle;\n",
       "    }\n",
       "\n",
       "    .dataframe tbody tr th {\n",
       "        vertical-align: top;\n",
       "    }\n",
       "\n",
       "    .dataframe thead th {\n",
       "        text-align: right;\n",
       "    }\n",
       "</style>\n",
       "<table border=\"1\" class=\"dataframe\">\n",
       "  <thead>\n",
       "    <tr style=\"text-align: right;\">\n",
       "      <th></th>\n",
       "      <th>approx_duration</th>\n",
       "      <th>event_count</th>\n",
       "    </tr>\n",
       "    <tr>\n",
       "      <th>activity_session_id</th>\n",
       "      <th></th>\n",
       "      <th></th>\n",
       "    </tr>\n",
       "  </thead>\n",
       "  <tbody>\n",
       "    <tr>\n",
       "      <th>00449fb54cdfc66e06fb</th>\n",
       "      <td>0 days 00:01:09.299000</td>\n",
       "      <td>5</td>\n",
       "    </tr>\n",
       "    <tr>\n",
       "      <th>00cd0987f3d0a3b7f52d</th>\n",
       "      <td>0 days 00:09:00.608000</td>\n",
       "      <td>5</td>\n",
       "    </tr>\n",
       "    <tr>\n",
       "      <th>00dba6ed58073c6b8123</th>\n",
       "      <td>0 days 00:00:11.468000</td>\n",
       "      <td>2</td>\n",
       "    </tr>\n",
       "    <tr>\n",
       "      <th>0130caa004897bdc6ec1</th>\n",
       "      <td>0 days 00:01:30.690000</td>\n",
       "      <td>5</td>\n",
       "    </tr>\n",
       "    <tr>\n",
       "      <th>01383c2cc1d7dd237482</th>\n",
       "      <td>0 days 00:23:48.996000</td>\n",
       "      <td>6</td>\n",
       "    </tr>\n",
       "    <tr>\n",
       "      <th>...</th>\n",
       "      <td>...</td>\n",
       "      <td>...</td>\n",
       "    </tr>\n",
       "    <tr>\n",
       "      <th>fe4ab0175441b1f25c31</th>\n",
       "      <td>0 days 00:00:00</td>\n",
       "      <td>1</td>\n",
       "    </tr>\n",
       "    <tr>\n",
       "      <th>febb152173ac36ecea73</th>\n",
       "      <td>0 days 00:00:59.464000</td>\n",
       "      <td>4</td>\n",
       "    </tr>\n",
       "    <tr>\n",
       "      <th>fed835a5f50e11629c65</th>\n",
       "      <td>0 days 00:01:47.813000</td>\n",
       "      <td>4</td>\n",
       "    </tr>\n",
       "    <tr>\n",
       "      <th>ffac36192c6b8008cc26</th>\n",
       "      <td>0 days 00:02:35.772000</td>\n",
       "      <td>4</td>\n",
       "    </tr>\n",
       "    <tr>\n",
       "      <th>ffc6e34e875ccfa2d5a1</th>\n",
       "      <td>0 days 00:00:00</td>\n",
       "      <td>1</td>\n",
       "    </tr>\n",
       "  </tbody>\n",
       "</table>\n",
       "<p>942 rows × 2 columns</p>\n",
       "</div>"
      ],
      "text/plain": [
       "                            approx_duration  event_count\n",
       "activity_session_id                                     \n",
       "00449fb54cdfc66e06fb 0 days 00:01:09.299000            5\n",
       "00cd0987f3d0a3b7f52d 0 days 00:09:00.608000            5\n",
       "00dba6ed58073c6b8123 0 days 00:00:11.468000            2\n",
       "0130caa004897bdc6ec1 0 days 00:01:30.690000            5\n",
       "01383c2cc1d7dd237482 0 days 00:23:48.996000            6\n",
       "...                                     ...          ...\n",
       "fe4ab0175441b1f25c31        0 days 00:00:00            1\n",
       "febb152173ac36ecea73 0 days 00:00:59.464000            4\n",
       "fed835a5f50e11629c65 0 days 00:01:47.813000            4\n",
       "ffac36192c6b8008cc26 0 days 00:02:35.772000            4\n",
       "ffc6e34e875ccfa2d5a1        0 days 00:00:00            1\n",
       "\n",
       "[942 rows x 2 columns]"
      ]
     },
     "execution_count": 31,
     "metadata": {},
     "output_type": "execute_result"
    }
   ],
   "source": [
    "session = (\n",
    "    consumer_events\n",
    "    .groupby(\"activity_session_id\")\n",
    "    .agg(\n",
    "        approx_duration=(\"dt\", lambda s: s.max() - s.min()),\n",
    "        event_count=(\"event_type\", len)\n",
    "    )\n",
    ")\n",
    "\n",
    "session"
   ]
  },
  {
   "cell_type": "markdown",
   "id": "5396df33-7d46-433d-af90-a418ef24dfdf",
   "metadata": {},
   "source": [
    "Wow, there are some absurdly long sessions here."
   ]
  },
  {
   "cell_type": "code",
   "execution_count": 34,
   "id": "cebbb99b-4858-46e1-ab85-f87ffe004db7",
   "metadata": {},
   "outputs": [
    {
     "data": {
      "text/html": [
       "<div>\n",
       "<style scoped>\n",
       "    .dataframe tbody tr th:only-of-type {\n",
       "        vertical-align: middle;\n",
       "    }\n",
       "\n",
       "    .dataframe tbody tr th {\n",
       "        vertical-align: top;\n",
       "    }\n",
       "\n",
       "    .dataframe thead th {\n",
       "        text-align: right;\n",
       "    }\n",
       "</style>\n",
       "<table border=\"1\" class=\"dataframe\">\n",
       "  <thead>\n",
       "    <tr style=\"text-align: right;\">\n",
       "      <th></th>\n",
       "      <th>approx_duration</th>\n",
       "      <th>event_count</th>\n",
       "    </tr>\n",
       "    <tr>\n",
       "      <th>activity_session_id</th>\n",
       "      <th></th>\n",
       "      <th></th>\n",
       "    </tr>\n",
       "  </thead>\n",
       "  <tbody>\n",
       "    <tr>\n",
       "      <th>2be8a42c168afdf1742f</th>\n",
       "      <td>2 days 07:20:38.820000</td>\n",
       "      <td>5</td>\n",
       "    </tr>\n",
       "    <tr>\n",
       "      <th>2868f147b58768904032</th>\n",
       "      <td>1 days 05:31:53.321000</td>\n",
       "      <td>2</td>\n",
       "    </tr>\n",
       "    <tr>\n",
       "      <th>4b303608167e150238e4</th>\n",
       "      <td>1 days 00:59:31.688000</td>\n",
       "      <td>13</td>\n",
       "    </tr>\n",
       "    <tr>\n",
       "      <th>fa25dfab2b66bbcab9c2</th>\n",
       "      <td>0 days 21:30:48.003000</td>\n",
       "      <td>34</td>\n",
       "    </tr>\n",
       "    <tr>\n",
       "      <th>8aece4d26321cd14b424</th>\n",
       "      <td>0 days 09:03:21.214000</td>\n",
       "      <td>5</td>\n",
       "    </tr>\n",
       "    <tr>\n",
       "      <th>fa7915e190bdeeb98cfe</th>\n",
       "      <td>0 days 08:37:44.958000</td>\n",
       "      <td>18</td>\n",
       "    </tr>\n",
       "    <tr>\n",
       "      <th>46c6dd8e1e47b921fabc</th>\n",
       "      <td>0 days 06:59:10.050000</td>\n",
       "      <td>2</td>\n",
       "    </tr>\n",
       "    <tr>\n",
       "      <th>746c3672b6948efc94cf</th>\n",
       "      <td>0 days 05:47:38.344000</td>\n",
       "      <td>11</td>\n",
       "    </tr>\n",
       "    <tr>\n",
       "      <th>b7f9cb894560bc3c8337</th>\n",
       "      <td>0 days 05:20:11.344000</td>\n",
       "      <td>2</td>\n",
       "    </tr>\n",
       "    <tr>\n",
       "      <th>ae681020e97b2484bcb6</th>\n",
       "      <td>0 days 05:13:03.420000</td>\n",
       "      <td>27</td>\n",
       "    </tr>\n",
       "  </tbody>\n",
       "</table>\n",
       "</div>"
      ],
      "text/plain": [
       "                            approx_duration  event_count\n",
       "activity_session_id                                     \n",
       "2be8a42c168afdf1742f 2 days 07:20:38.820000            5\n",
       "2868f147b58768904032 1 days 05:31:53.321000            2\n",
       "4b303608167e150238e4 1 days 00:59:31.688000           13\n",
       "fa25dfab2b66bbcab9c2 0 days 21:30:48.003000           34\n",
       "8aece4d26321cd14b424 0 days 09:03:21.214000            5\n",
       "fa7915e190bdeeb98cfe 0 days 08:37:44.958000           18\n",
       "46c6dd8e1e47b921fabc 0 days 06:59:10.050000            2\n",
       "746c3672b6948efc94cf 0 days 05:47:38.344000           11\n",
       "b7f9cb894560bc3c8337 0 days 05:20:11.344000            2\n",
       "ae681020e97b2484bcb6 0 days 05:13:03.420000           27"
      ]
     },
     "execution_count": 34,
     "metadata": {},
     "output_type": "execute_result"
    }
   ],
   "source": [
    "session.sort_values(\"approx_duration\", ascending=False).head(10)"
   ]
  },
  {
   "cell_type": "markdown",
   "id": "3945a9d0-c070-4b66-bfb4-28f1d0b504de",
   "metadata": {},
   "source": [
    "Having inspected the first 8 in depth, they all follow the same pattern: all but one event in very plausible span of time (about 30 minutes or less), and then a final event many hours later. The page of the final event is usually but not always a page that has appeared previously in the session. At least a couple of these session seem to include a story creation, since they involve multiple `story_impression` and `story_view` events on the same page with an increase in the `page_story_count`."
   ]
  },
  {
   "cell_type": "markdown",
   "id": "42c688c6-4476-402a-8cb0-e78c640cf470",
   "metadata": {},
   "source": [
    "What's the best cutoff between a likely-real long session and a likely-mistake long session? All the longest sessions, at 6 hours duration or up, seemed like mistakes. Sampling five sessions between 2 hours and 5 hours long, the first two (at 2 hr, 3 min and 2 hr, 11 min) seemed to be real, with lots of events spread evenly throughout the duration. Both seemed to involve users creating stories. The last three (at 2 hr, 31 min, 2 hr, 28 min, and 3 hr, 3 min) seem like errors, following the pattern of a single event hours after an initial cluster. Based on this, we can conservatively say that sessions longer than 2 hr, 30 min are likely errors."
   ]
  },
  {
   "cell_type": "code",
   "execution_count": 70,
   "id": "f3a017f1-a77e-486f-ad3b-6b070f307268",
   "metadata": {},
   "outputs": [
    {
     "data": {
      "text/html": [
       "<div>\n",
       "<style scoped>\n",
       "    .dataframe tbody tr th:only-of-type {\n",
       "        vertical-align: middle;\n",
       "    }\n",
       "\n",
       "    .dataframe tbody tr th {\n",
       "        vertical-align: top;\n",
       "    }\n",
       "\n",
       "    .dataframe thead th {\n",
       "        text-align: right;\n",
       "    }\n",
       "</style>\n",
       "<table border=\"1\" class=\"dataframe\">\n",
       "  <thead>\n",
       "    <tr style=\"text-align: right;\">\n",
       "      <th></th>\n",
       "      <th>approx_duration</th>\n",
       "      <th>event_count</th>\n",
       "    </tr>\n",
       "    <tr>\n",
       "      <th>activity_session_id</th>\n",
       "      <th></th>\n",
       "      <th></th>\n",
       "    </tr>\n",
       "  </thead>\n",
       "  <tbody>\n",
       "    <tr>\n",
       "      <th>f08f96955a5dc64eb83c</th>\n",
       "      <td>0 days 02:02:54.069000</td>\n",
       "      <td>18</td>\n",
       "    </tr>\n",
       "    <tr>\n",
       "      <th>8b84867f64e0b62717d7</th>\n",
       "      <td>0 days 02:10:55.192000</td>\n",
       "      <td>30</td>\n",
       "    </tr>\n",
       "    <tr>\n",
       "      <th>3396c599e245b5d4c067</th>\n",
       "      <td>0 days 02:30:58.676000</td>\n",
       "      <td>4</td>\n",
       "    </tr>\n",
       "    <tr>\n",
       "      <th>5649e2034d305dba0350</th>\n",
       "      <td>0 days 02:27:33.601000</td>\n",
       "      <td>5</td>\n",
       "    </tr>\n",
       "    <tr>\n",
       "      <th>64e7c82eef4f1a9c6461</th>\n",
       "      <td>0 days 03:02:08.033000</td>\n",
       "      <td>4</td>\n",
       "    </tr>\n",
       "  </tbody>\n",
       "</table>\n",
       "</div>"
      ],
      "text/plain": [
       "                            approx_duration  event_count\n",
       "activity_session_id                                     \n",
       "f08f96955a5dc64eb83c 0 days 02:02:54.069000           18\n",
       "8b84867f64e0b62717d7 0 days 02:10:55.192000           30\n",
       "3396c599e245b5d4c067 0 days 02:30:58.676000            4\n",
       "5649e2034d305dba0350 0 days 02:27:33.601000            5\n",
       "64e7c82eef4f1a9c6461 0 days 03:02:08.033000            4"
      ]
     },
     "execution_count": 70,
     "metadata": {},
     "output_type": "execute_result"
    }
   ],
   "source": [
    "long_session[lambda df: df[\"approx_duration\"] < \"5 hour\"].sample(5)"
   ]
  },
  {
   "cell_type": "markdown",
   "id": "1452e3a6-f1db-46dd-81fb-fdbcee2cd78d",
   "metadata": {},
   "source": [
    "Long sessions like this make up a surprisingly large propotion of the total."
   ]
  },
  {
   "cell_type": "code",
   "execution_count": 77,
   "id": "b2b58d73-53fb-4777-922b-97b3833c142f",
   "metadata": {},
   "outputs": [
    {
     "name": "stdout",
     "output_type": "stream",
     "text": [
      "3.1%\n"
     ]
    }
   ],
   "source": [
    "long_session = session[lambda df: df[\"approx_duration\"] >= \"2 hr, 30 min\"]\n",
    "\n",
    "print(pct_str(len(long_session) / len(session)))"
   ]
  },
  {
   "cell_type": "markdown",
   "id": "22dc26db-1bd2-4654-a4ce-736abea2c1c9",
   "metadata": {},
   "source": [
    "Under our cutoff, the distribution of session lengths seems quite reasonable."
   ]
  },
  {
   "cell_type": "code",
   "execution_count": 67,
   "id": "da22cf63-0f2a-41a9-b4b5-102996ace662",
   "metadata": {},
   "outputs": [
    {
     "data": {
      "application/vnd.plotly.v1+json": {
       "config": {
        "plotlyServerURL": "https://plot.ly",
        "toImageButtonOptions": {
         "filename": "plotly_graph",
         "format": "png",
         "height": 625,
         "scale": 2,
         "width": 1000
        }
       },
       "data": [
        {
         "alignmentgroup": "True",
         "bingroup": "x",
         "hovertemplate": "approximate session length (min)=%{x}<br>count=%{y}<extra></extra>",
         "legendgroup": "",
         "marker": {
          "color": "#636efa",
          "pattern": {
           "shape": ""
          }
         },
         "name": "",
         "offsetgroup": "",
         "orientation": "v",
         "showlegend": false,
         "type": "histogram",
         "x": [
          1.15,
          9,
          0.18333333333333332,
          1.5,
          23.8,
          0,
          6.116666666666666,
          0,
          0,
          40.21666666666667,
          35.86666666666667,
          10.666666666666666,
          0.6666666666666666,
          0,
          12.3,
          93.48333333333333,
          0,
          0,
          0,
          0.26666666666666666,
          10.383333333333333,
          5.2,
          0.08333333333333333,
          53.96666666666667,
          5.683333333333334,
          0.3333333333333333,
          24.6,
          18.7,
          0,
          8.633333333333333,
          24.55,
          0,
          1.7833333333333334,
          0,
          0,
          16.816666666666666,
          0,
          0,
          0.016666666666666666,
          55.583333333333336,
          0,
          1.3,
          0.06666666666666667,
          0,
          0.7333333333333333,
          16.5,
          0,
          0,
          0,
          0,
          14.583333333333334,
          4.133333333333334,
          0,
          0.9166666666666666,
          27.983333333333334,
          0,
          0,
          0,
          0,
          0,
          0.05,
          0.25,
          101.63333333333334,
          11.283333333333333,
          0,
          1.4,
          0.38333333333333336,
          0,
          0,
          20.383333333333333,
          0,
          2.55,
          0,
          112.75,
          35.4,
          0,
          0,
          0,
          34.21666666666667,
          0,
          0.35,
          0.36666666666666664,
          0,
          0,
          0.03333333333333333,
          0,
          0,
          13.65,
          0,
          0,
          24.55,
          0,
          0.9166666666666666,
          18.766666666666666,
          0,
          1.8333333333333333,
          1.2333333333333334,
          0.2,
          0.4,
          0,
          40.68333333333333,
          0,
          0.4,
          47.916666666666664,
          0,
          13.116666666666667,
          1.4833333333333334,
          0,
          10.033333333333333,
          7.133333333333334,
          0.36666666666666664,
          0,
          0.4166666666666667,
          3.566666666666667,
          0,
          0,
          0.4,
          25.783333333333335,
          0.8,
          0,
          0,
          23.383333333333333,
          29.033333333333335,
          2.9833333333333334,
          21.016666666666666,
          1.05,
          42.983333333333334,
          19.933333333333334,
          0.08333333333333333,
          0,
          0.38333333333333336,
          0,
          0,
          67.93333333333334,
          9.166666666666666,
          2.45,
          0,
          0.03333333333333333,
          0.95,
          78.38333333333334,
          0,
          0,
          0,
          0.1,
          43.46666666666667,
          0,
          11.516666666666667,
          1.85,
          33.75,
          77.03333333333333,
          19.75,
          8,
          0.5166666666666667,
          0,
          51.483333333333334,
          0,
          26.666666666666668,
          37.06666666666667,
          54.63333333333333,
          0,
          5.1,
          0.13333333333333333,
          0,
          0,
          0,
          3.283333333333333,
          0.16666666666666666,
          0.3333333333333333,
          0.65,
          5.433333333333334,
          0,
          49.05,
          6.4,
          24.633333333333333,
          0,
          33.983333333333334,
          62.86666666666667,
          113.88333333333334,
          56.516666666666666,
          0,
          69.68333333333334,
          1.4,
          0,
          17.066666666666666,
          45.43333333333333,
          0,
          85.11666666666666,
          0,
          34.416666666666664,
          0.8,
          0,
          17.966666666666665,
          0,
          0,
          0,
          5.883333333333334,
          0.7166666666666667,
          11.366666666666667,
          0,
          0.2833333333333333,
          0,
          0.45,
          0.05,
          0,
          0.43333333333333335,
          42.88333333333333,
          0.15,
          20.7,
          0,
          0,
          0.08333333333333333,
          0,
          0.05,
          0,
          0,
          8.516666666666667,
          0,
          0.4666666666666667,
          0,
          0,
          19.616666666666667,
          0,
          1.85,
          0,
          0.15,
          0,
          15.166666666666666,
          0.15,
          27.383333333333333,
          0,
          0.55,
          104.96666666666667,
          0,
          90.7,
          60.166666666666664,
          43.733333333333334,
          13.733333333333333,
          1.6166666666666667,
          0.1,
          0.43333333333333335,
          0.25,
          0,
          0,
          3.5833333333333335,
          0,
          0,
          0,
          0.18333333333333332,
          1.0333333333333334,
          0,
          0.4166666666666667,
          0,
          0.016666666666666666,
          0,
          56.233333333333334,
          1.2666666666666666,
          0,
          14.633333333333333,
          0,
          49.88333333333333,
          7.75,
          33.25,
          0,
          15.75,
          1.6333333333333333,
          66.65,
          55.7,
          29.55,
          0.2833333333333333,
          1.8833333333333333,
          35.233333333333334,
          1.0333333333333334,
          0,
          0,
          0.15,
          4.916666666666667,
          40.18333333333333,
          0.03333333333333333,
          0,
          0,
          0.5166666666666667,
          0,
          44.45,
          0.5333333333333333,
          0,
          0,
          30.533333333333335,
          0,
          0.9,
          12.533333333333333,
          0,
          4.716666666666667,
          0,
          0,
          36.2,
          1.1166666666666667,
          0,
          0,
          31.083333333333332,
          51.4,
          3.85,
          0,
          16.533333333333335,
          1.5166666666666666,
          0,
          73.43333333333334,
          113.85,
          0,
          26.2,
          79.28333333333333,
          41.21666666666667,
          0,
          1.65,
          0,
          0.7,
          22.583333333333332,
          0.6666666666666666,
          2.5166666666666666,
          25.683333333333334,
          0.8333333333333334,
          2.183333333333333,
          0,
          0,
          0,
          18.233333333333334,
          47.36666666666667,
          6.966666666666667,
          0,
          0,
          0,
          0.8,
          0,
          0,
          0,
          0,
          19.05,
          13.283333333333333,
          0,
          0,
          0,
          3.05,
          1.05,
          60.15,
          0,
          0.21666666666666667,
          68.93333333333334,
          13.616666666666667,
          0,
          5.516666666666667,
          32.583333333333336,
          6.383333333333334,
          7.883333333333334,
          0,
          60.2,
          0,
          11.616666666666667,
          8.116666666666667,
          73.55,
          7.733333333333333,
          0,
          0.7,
          0,
          32.21666666666667,
          58.583333333333336,
          0.23333333333333334,
          100.8,
          12.166666666666666,
          0.4,
          8.166666666666666,
          0,
          0,
          0,
          0,
          60.416666666666664,
          0,
          0.18333333333333332,
          0,
          9.7,
          0.13333333333333333,
          34.45,
          0,
          0.08333333333333333,
          14.383333333333333,
          0,
          14.5,
          2.433333333333333,
          0.06666666666666667,
          5.45,
          18.233333333333334,
          0.4,
          0,
          4.666666666666667,
          103.26666666666667,
          10.416666666666666,
          3.8833333333333333,
          1.9,
          0.05,
          2.65,
          0,
          24.966666666666665,
          1.1166666666666667,
          5.733333333333333,
          0,
          0.36666666666666664,
          0,
          0.03333333333333333,
          7.65,
          0,
          0,
          0,
          0,
          9.083333333333334,
          0.8666666666666667,
          0,
          0,
          0,
          0,
          0,
          28.166666666666668,
          0.48333333333333334,
          0,
          0,
          85.56666666666666,
          0,
          3.55,
          52.78333333333333,
          70.3,
          0,
          3.6,
          0,
          0,
          0,
          22.966666666666665,
          0,
          55.8,
          0,
          1.0833333333333333,
          10.816666666666666,
          0,
          0,
          0,
          0.95,
          0.35,
          0,
          0,
          10.666666666666666,
          0,
          0,
          0,
          16.883333333333333,
          0,
          5.716666666666667,
          0,
          0,
          15.383333333333333,
          0,
          13.5,
          32.9,
          0,
          33.4,
          14.25,
          0,
          0,
          0,
          10.4,
          4.016666666666667,
          0,
          13.65,
          0.03333333333333333,
          0.16666666666666666,
          9.516666666666667,
          0,
          26.016666666666666,
          30.566666666666666,
          0,
          0.21666666666666667,
          0,
          0,
          0,
          1.0666666666666667,
          90.78333333333333,
          14.85,
          1.1,
          9.033333333333333,
          1.8,
          0,
          8.316666666666666,
          23.25,
          0,
          4.366666666666666,
          0,
          0,
          0,
          36.95,
          0,
          0.13333333333333333,
          0,
          0.38333333333333336,
          0.38333333333333336,
          0.2833333333333333,
          6.85,
          0,
          0,
          61.03333333333333,
          27.35,
          0,
          2.533333333333333,
          0.6333333333333333,
          29.966666666666665,
          72.13333333333334,
          0,
          0,
          26.983333333333334,
          15.433333333333334,
          0,
          19.5,
          0,
          0,
          96.93333333333334,
          2.8,
          0,
          0,
          0,
          2.3666666666666667,
          0.5,
          0,
          0.08333333333333333,
          16.666666666666668,
          0,
          33.45,
          25.966666666666665,
          108.23333333333333,
          0,
          2.5166666666666666,
          0,
          0,
          1.0166666666666666,
          0.5,
          0,
          14.3,
          0,
          0,
          1.25,
          0,
          0,
          81.63333333333334,
          0.8166666666666667,
          3.5166666666666666,
          0,
          0,
          95.26666666666667,
          3.6333333333333333,
          0.8333333333333334,
          9.25,
          0,
          0,
          0,
          0,
          39.46666666666667,
          0,
          0,
          73.9,
          22.45,
          0.26666666666666666,
          0.7666666666666667,
          0,
          0,
          3.9,
          1.8666666666666667,
          0,
          0.7333333333333333,
          51.483333333333334,
          27.35,
          0,
          0,
          0.35,
          0,
          23.616666666666667,
          75.43333333333334,
          2.7666666666666666,
          0,
          1.3833333333333333,
          0,
          0,
          0,
          3.7,
          1.1666666666666667,
          1.1833333333333333,
          116.76666666666667,
          71.93333333333334,
          0,
          0,
          0.06666666666666667,
          3.1,
          0,
          0,
          3.2666666666666666,
          0,
          0,
          1.1666666666666667,
          0,
          0,
          0,
          0,
          13.85,
          0,
          0,
          36.25,
          1.9166666666666667,
          0,
          0,
          0,
          0.05,
          0.1,
          17.083333333333332,
          3.3333333333333335,
          0.36666666666666664,
          12.516666666666667,
          0,
          0.06666666666666667,
          0,
          0,
          13.483333333333333,
          0,
          0,
          0,
          20.333333333333332,
          0.08333333333333333,
          0,
          1.4,
          15.416666666666666,
          0,
          0.03333333333333333,
          0.05,
          0,
          0.6,
          0,
          7.683333333333334,
          0,
          37.65,
          7.083333333333333,
          0,
          67.55,
          0,
          2.5166666666666666,
          0.9833333333333333,
          34.86666666666667,
          1,
          0,
          10.583333333333334,
          1.05,
          20.983333333333334,
          0.1,
          47.233333333333334,
          43,
          2.966666666666667,
          0.8666666666666667,
          0.13333333333333333,
          65.43333333333334,
          27.716666666666665,
          6.216666666666667,
          0.23333333333333334,
          0.15,
          0.36666666666666664,
          100.01666666666667,
          9.033333333333333,
          32.81666666666667,
          2.1666666666666665,
          0,
          0.7333333333333333,
          0,
          0,
          2.683333333333333,
          0.6166666666666667,
          25,
          25.75,
          35.05,
          1.6666666666666667,
          0,
          1.4333333333333333,
          6.2,
          0,
          0,
          1.0833333333333333,
          73.61666666666666,
          0,
          0.5,
          0,
          0,
          1.85,
          0,
          17.633333333333333,
          12.466666666666667,
          4.916666666666667,
          0,
          0,
          0.4166666666666667,
          49,
          0,
          0,
          0,
          1.65,
          0,
          0,
          1.3666666666666667,
          0,
          0,
          1,
          0,
          0,
          0,
          0,
          13.733333333333333,
          0.18333333333333332,
          0.4,
          0,
          48.88333333333333,
          0,
          0,
          0,
          20.4,
          0,
          5.45,
          0,
          0.15,
          0.38333333333333336,
          44.96666666666667,
          21.466666666666665,
          0,
          117.13333333333334,
          0,
          1.4166666666666667,
          4.016666666666667,
          13.183333333333334,
          0.11666666666666667,
          0,
          63.416666666666664,
          73.8,
          0,
          1.3333333333333333,
          0,
          0,
          0,
          0,
          0,
          0.4166666666666667,
          87.98333333333333,
          32.416666666666664,
          0.5166666666666667,
          0,
          4.566666666666666,
          0,
          0,
          12.35,
          0.03333333333333333,
          12.35,
          0.6833333333333333,
          0,
          3.25,
          34.083333333333336,
          0,
          0,
          0,
          32.18333333333333,
          11.45,
          0,
          0,
          5.016666666666667,
          11.616666666666667,
          3.1333333333333333,
          0,
          0,
          0.26666666666666666,
          0,
          12.466666666666667,
          0.5,
          31.3,
          0,
          16.45,
          0,
          0,
          0,
          111.65,
          0,
          118.7,
          39.416666666666664,
          0,
          0.3,
          0,
          0,
          0,
          0.4,
          114.85,
          0,
          0.9166666666666666,
          0,
          0,
          1.5333333333333334,
          17.483333333333334,
          0,
          0.9166666666666666,
          0.23333333333333334,
          42.61666666666667,
          0,
          95.7,
          0,
          0,
          0,
          3.05,
          0,
          0.7333333333333333,
          0,
          0,
          88.81666666666666,
          77.28333333333333,
          0.05,
          2.6166666666666667,
          4.983333333333333,
          0.5,
          0.45,
          0.45,
          14.116666666666667,
          0.21666666666666667,
          0,
          8.9,
          0.9333333333333333,
          0,
          10.166666666666666,
          0,
          0,
          0,
          2.3666666666666667,
          30.35,
          0,
          1.0333333333333334,
          3.05,
          105.46666666666667,
          11.516666666666667,
          0,
          10.833333333333334,
          0,
          13.616666666666667,
          4.316666666666666,
          0.25,
          0,
          0,
          6.033333333333333,
          0,
          0.25,
          4.866666666666666,
          0,
          0,
          0,
          11.433333333333334,
          23.283333333333335,
          108.66666666666667,
          0,
          0,
          0,
          1.8833333333333333,
          30.216666666666665,
          0,
          4.75,
          44.11666666666667,
          0,
          0.03333333333333333,
          43.55,
          0.2833333333333333,
          0,
          0,
          0,
          0.31666666666666665,
          0,
          0,
          0,
          0.08333333333333333,
          1.15,
          90.13333333333334,
          0,
          32.416666666666664,
          27.616666666666667,
          0,
          0,
          0,
          0,
          0,
          15.266666666666667,
          2.5833333333333335,
          0,
          1.0833333333333333,
          0.21666666666666667,
          0,
          18.516666666666666,
          9.433333333333334,
          106.4,
          16.9,
          0,
          0.9833333333333333,
          1.7833333333333334,
          2.5833333333333335,
          0
         ],
         "xaxis": "x",
         "yaxis": "y"
        }
       ],
       "layout": {
        "autosize": true,
        "barmode": "relative",
        "legend": {
         "tracegroupgap": 0
        },
        "template": {
         "data": {
          "bar": [
           {
            "error_x": {
             "color": "#2a3f5f"
            },
            "error_y": {
             "color": "#2a3f5f"
            },
            "marker": {
             "line": {
              "color": "#E5ECF6",
              "width": 0.5
             },
             "pattern": {
              "fillmode": "overlay",
              "size": 10,
              "solidity": 0.2
             }
            },
            "type": "bar"
           }
          ],
          "barpolar": [
           {
            "marker": {
             "line": {
              "color": "#E5ECF6",
              "width": 0.5
             },
             "pattern": {
              "fillmode": "overlay",
              "size": 10,
              "solidity": 0.2
             }
            },
            "type": "barpolar"
           }
          ],
          "carpet": [
           {
            "aaxis": {
             "endlinecolor": "#2a3f5f",
             "gridcolor": "white",
             "linecolor": "white",
             "minorgridcolor": "white",
             "startlinecolor": "#2a3f5f"
            },
            "baxis": {
             "endlinecolor": "#2a3f5f",
             "gridcolor": "white",
             "linecolor": "white",
             "minorgridcolor": "white",
             "startlinecolor": "#2a3f5f"
            },
            "type": "carpet"
           }
          ],
          "choropleth": [
           {
            "colorbar": {
             "outlinewidth": 0,
             "ticks": ""
            },
            "type": "choropleth"
           }
          ],
          "contour": [
           {
            "colorbar": {
             "outlinewidth": 0,
             "ticks": ""
            },
            "colorscale": [
             [
              0,
              "#0d0887"
             ],
             [
              0.1111111111111111,
              "#46039f"
             ],
             [
              0.2222222222222222,
              "#7201a8"
             ],
             [
              0.3333333333333333,
              "#9c179e"
             ],
             [
              0.4444444444444444,
              "#bd3786"
             ],
             [
              0.5555555555555556,
              "#d8576b"
             ],
             [
              0.6666666666666666,
              "#ed7953"
             ],
             [
              0.7777777777777778,
              "#fb9f3a"
             ],
             [
              0.8888888888888888,
              "#fdca26"
             ],
             [
              1,
              "#f0f921"
             ]
            ],
            "type": "contour"
           }
          ],
          "contourcarpet": [
           {
            "colorbar": {
             "outlinewidth": 0,
             "ticks": ""
            },
            "type": "contourcarpet"
           }
          ],
          "heatmap": [
           {
            "colorbar": {
             "outlinewidth": 0,
             "ticks": ""
            },
            "colorscale": [
             [
              0,
              "#0d0887"
             ],
             [
              0.1111111111111111,
              "#46039f"
             ],
             [
              0.2222222222222222,
              "#7201a8"
             ],
             [
              0.3333333333333333,
              "#9c179e"
             ],
             [
              0.4444444444444444,
              "#bd3786"
             ],
             [
              0.5555555555555556,
              "#d8576b"
             ],
             [
              0.6666666666666666,
              "#ed7953"
             ],
             [
              0.7777777777777778,
              "#fb9f3a"
             ],
             [
              0.8888888888888888,
              "#fdca26"
             ],
             [
              1,
              "#f0f921"
             ]
            ],
            "type": "heatmap"
           }
          ],
          "heatmapgl": [
           {
            "colorbar": {
             "outlinewidth": 0,
             "ticks": ""
            },
            "colorscale": [
             [
              0,
              "#0d0887"
             ],
             [
              0.1111111111111111,
              "#46039f"
             ],
             [
              0.2222222222222222,
              "#7201a8"
             ],
             [
              0.3333333333333333,
              "#9c179e"
             ],
             [
              0.4444444444444444,
              "#bd3786"
             ],
             [
              0.5555555555555556,
              "#d8576b"
             ],
             [
              0.6666666666666666,
              "#ed7953"
             ],
             [
              0.7777777777777778,
              "#fb9f3a"
             ],
             [
              0.8888888888888888,
              "#fdca26"
             ],
             [
              1,
              "#f0f921"
             ]
            ],
            "type": "heatmapgl"
           }
          ],
          "histogram": [
           {
            "marker": {
             "pattern": {
              "fillmode": "overlay",
              "size": 10,
              "solidity": 0.2
             }
            },
            "type": "histogram"
           }
          ],
          "histogram2d": [
           {
            "colorbar": {
             "outlinewidth": 0,
             "ticks": ""
            },
            "colorscale": [
             [
              0,
              "#0d0887"
             ],
             [
              0.1111111111111111,
              "#46039f"
             ],
             [
              0.2222222222222222,
              "#7201a8"
             ],
             [
              0.3333333333333333,
              "#9c179e"
             ],
             [
              0.4444444444444444,
              "#bd3786"
             ],
             [
              0.5555555555555556,
              "#d8576b"
             ],
             [
              0.6666666666666666,
              "#ed7953"
             ],
             [
              0.7777777777777778,
              "#fb9f3a"
             ],
             [
              0.8888888888888888,
              "#fdca26"
             ],
             [
              1,
              "#f0f921"
             ]
            ],
            "type": "histogram2d"
           }
          ],
          "histogram2dcontour": [
           {
            "colorbar": {
             "outlinewidth": 0,
             "ticks": ""
            },
            "colorscale": [
             [
              0,
              "#0d0887"
             ],
             [
              0.1111111111111111,
              "#46039f"
             ],
             [
              0.2222222222222222,
              "#7201a8"
             ],
             [
              0.3333333333333333,
              "#9c179e"
             ],
             [
              0.4444444444444444,
              "#bd3786"
             ],
             [
              0.5555555555555556,
              "#d8576b"
             ],
             [
              0.6666666666666666,
              "#ed7953"
             ],
             [
              0.7777777777777778,
              "#fb9f3a"
             ],
             [
              0.8888888888888888,
              "#fdca26"
             ],
             [
              1,
              "#f0f921"
             ]
            ],
            "type": "histogram2dcontour"
           }
          ],
          "mesh3d": [
           {
            "colorbar": {
             "outlinewidth": 0,
             "ticks": ""
            },
            "type": "mesh3d"
           }
          ],
          "parcoords": [
           {
            "line": {
             "colorbar": {
              "outlinewidth": 0,
              "ticks": ""
             }
            },
            "type": "parcoords"
           }
          ],
          "pie": [
           {
            "automargin": true,
            "type": "pie"
           }
          ],
          "scatter": [
           {
            "fillpattern": {
             "fillmode": "overlay",
             "size": 10,
             "solidity": 0.2
            },
            "type": "scatter"
           }
          ],
          "scatter3d": [
           {
            "line": {
             "colorbar": {
              "outlinewidth": 0,
              "ticks": ""
             }
            },
            "marker": {
             "colorbar": {
              "outlinewidth": 0,
              "ticks": ""
             }
            },
            "type": "scatter3d"
           }
          ],
          "scattercarpet": [
           {
            "marker": {
             "colorbar": {
              "outlinewidth": 0,
              "ticks": ""
             }
            },
            "type": "scattercarpet"
           }
          ],
          "scattergeo": [
           {
            "marker": {
             "colorbar": {
              "outlinewidth": 0,
              "ticks": ""
             }
            },
            "type": "scattergeo"
           }
          ],
          "scattergl": [
           {
            "marker": {
             "colorbar": {
              "outlinewidth": 0,
              "ticks": ""
             }
            },
            "type": "scattergl"
           }
          ],
          "scattermapbox": [
           {
            "marker": {
             "colorbar": {
              "outlinewidth": 0,
              "ticks": ""
             }
            },
            "type": "scattermapbox"
           }
          ],
          "scatterpolar": [
           {
            "marker": {
             "colorbar": {
              "outlinewidth": 0,
              "ticks": ""
             }
            },
            "type": "scatterpolar"
           }
          ],
          "scatterpolargl": [
           {
            "marker": {
             "colorbar": {
              "outlinewidth": 0,
              "ticks": ""
             }
            },
            "type": "scatterpolargl"
           }
          ],
          "scatterternary": [
           {
            "marker": {
             "colorbar": {
              "outlinewidth": 0,
              "ticks": ""
             }
            },
            "type": "scatterternary"
           }
          ],
          "surface": [
           {
            "colorbar": {
             "outlinewidth": 0,
             "ticks": ""
            },
            "colorscale": [
             [
              0,
              "#0d0887"
             ],
             [
              0.1111111111111111,
              "#46039f"
             ],
             [
              0.2222222222222222,
              "#7201a8"
             ],
             [
              0.3333333333333333,
              "#9c179e"
             ],
             [
              0.4444444444444444,
              "#bd3786"
             ],
             [
              0.5555555555555556,
              "#d8576b"
             ],
             [
              0.6666666666666666,
              "#ed7953"
             ],
             [
              0.7777777777777778,
              "#fb9f3a"
             ],
             [
              0.8888888888888888,
              "#fdca26"
             ],
             [
              1,
              "#f0f921"
             ]
            ],
            "type": "surface"
           }
          ],
          "table": [
           {
            "cells": {
             "fill": {
              "color": "#EBF0F8"
             },
             "line": {
              "color": "white"
             }
            },
            "header": {
             "fill": {
              "color": "#C8D4E3"
             },
             "line": {
              "color": "white"
             }
            },
            "type": "table"
           }
          ]
         },
         "layout": {
          "annotationdefaults": {
           "arrowcolor": "#2a3f5f",
           "arrowhead": 0,
           "arrowwidth": 1
          },
          "autotypenumbers": "strict",
          "coloraxis": {
           "colorbar": {
            "outlinewidth": 0,
            "ticks": ""
           }
          },
          "colorscale": {
           "diverging": [
            [
             0,
             "#8e0152"
            ],
            [
             0.1,
             "#c51b7d"
            ],
            [
             0.2,
             "#de77ae"
            ],
            [
             0.3,
             "#f1b6da"
            ],
            [
             0.4,
             "#fde0ef"
            ],
            [
             0.5,
             "#f7f7f7"
            ],
            [
             0.6,
             "#e6f5d0"
            ],
            [
             0.7,
             "#b8e186"
            ],
            [
             0.8,
             "#7fbc41"
            ],
            [
             0.9,
             "#4d9221"
            ],
            [
             1,
             "#276419"
            ]
           ],
           "sequential": [
            [
             0,
             "#0d0887"
            ],
            [
             0.1111111111111111,
             "#46039f"
            ],
            [
             0.2222222222222222,
             "#7201a8"
            ],
            [
             0.3333333333333333,
             "#9c179e"
            ],
            [
             0.4444444444444444,
             "#bd3786"
            ],
            [
             0.5555555555555556,
             "#d8576b"
            ],
            [
             0.6666666666666666,
             "#ed7953"
            ],
            [
             0.7777777777777778,
             "#fb9f3a"
            ],
            [
             0.8888888888888888,
             "#fdca26"
            ],
            [
             1,
             "#f0f921"
            ]
           ],
           "sequentialminus": [
            [
             0,
             "#0d0887"
            ],
            [
             0.1111111111111111,
             "#46039f"
            ],
            [
             0.2222222222222222,
             "#7201a8"
            ],
            [
             0.3333333333333333,
             "#9c179e"
            ],
            [
             0.4444444444444444,
             "#bd3786"
            ],
            [
             0.5555555555555556,
             "#d8576b"
            ],
            [
             0.6666666666666666,
             "#ed7953"
            ],
            [
             0.7777777777777778,
             "#fb9f3a"
            ],
            [
             0.8888888888888888,
             "#fdca26"
            ],
            [
             1,
             "#f0f921"
            ]
           ]
          },
          "colorway": [
           "#636efa",
           "#EF553B",
           "#00cc96",
           "#ab63fa",
           "#FFA15A",
           "#19d3f3",
           "#FF6692",
           "#B6E880",
           "#FF97FF",
           "#FECB52"
          ],
          "font": {
           "color": "#2a3f5f",
           "family": "Montserrat",
           "size": 16
          },
          "geo": {
           "bgcolor": "white",
           "lakecolor": "white",
           "landcolor": "#E5ECF6",
           "showlakes": true,
           "showland": true,
           "subunitcolor": "white"
          },
          "hoverlabel": {
           "align": "left"
          },
          "hovermode": "closest",
          "mapbox": {
           "style": "light"
          },
          "margin": {
           "b": 25,
           "l": 25,
           "r": 25,
           "t": 50
          },
          "paper_bgcolor": "white",
          "plot_bgcolor": "#E5ECF6",
          "polar": {
           "angularaxis": {
            "gridcolor": "white",
            "linecolor": "white",
            "ticks": ""
           },
           "bgcolor": "#E5ECF6",
           "radialaxis": {
            "gridcolor": "white",
            "linecolor": "white",
            "ticks": ""
           }
          },
          "scene": {
           "xaxis": {
            "backgroundcolor": "#E5ECF6",
            "gridcolor": "white",
            "gridwidth": 2,
            "linecolor": "white",
            "showbackground": true,
            "ticks": "",
            "zerolinecolor": "white"
           },
           "yaxis": {
            "backgroundcolor": "#E5ECF6",
            "gridcolor": "white",
            "gridwidth": 2,
            "linecolor": "white",
            "showbackground": true,
            "ticks": "",
            "zerolinecolor": "white"
           },
           "zaxis": {
            "backgroundcolor": "#E5ECF6",
            "gridcolor": "white",
            "gridwidth": 2,
            "linecolor": "white",
            "showbackground": true,
            "ticks": "",
            "zerolinecolor": "white"
           }
          },
          "shapedefaults": {
           "line": {
            "color": "#2a3f5f"
           }
          },
          "ternary": {
           "aaxis": {
            "gridcolor": "white",
            "linecolor": "white",
            "ticks": ""
           },
           "baxis": {
            "gridcolor": "white",
            "linecolor": "white",
            "ticks": ""
           },
           "bgcolor": "#E5ECF6",
           "caxis": {
            "gridcolor": "white",
            "linecolor": "white",
            "ticks": ""
           }
          },
          "title": {
           "x": 0.05
          },
          "xaxis": {
           "automargin": true,
           "gridcolor": "white",
           "linecolor": "white",
           "ticks": "",
           "title": {
            "standoff": 15
           },
           "zerolinecolor": "white",
           "zerolinewidth": 2
          },
          "yaxis": {
           "automargin": true,
           "gridcolor": "white",
           "linecolor": "white",
           "ticks": "",
           "title": {
            "standoff": 15
           },
           "zerolinecolor": "white",
           "zerolinewidth": 2
          }
         }
        },
        "xaxis": {
         "anchor": "y",
         "autorange": true,
         "domain": [
          0,
          1
         ],
         "range": [
          -2.5,
          122.5
         ],
         "title": {
          "text": "approximate session length (min)"
         },
         "type": "linear"
        },
        "yaxis": {
         "anchor": "x",
         "autorange": true,
         "domain": [
          0,
          1
         ],
         "range": [
          0,
          607.3684210526316
         ],
         "title": {
          "text": "count"
         }
        }
       }
      },
      "image/png": "[encoded data removed]",
      "text/html": [
       "<div>                            <div id=\"9e893e00-6e14-496d-9617-c2ce299870ff\" class=\"plotly-graph-div\" style=\"height:525px; width:100%;\"></div>            <script type=\"text/javascript\">                require([\"plotly\"], function(Plotly) {                    window.PLOTLYENV=window.PLOTLYENV || {};                                    if (document.getElementById(\"9e893e00-6e14-496d-9617-c2ce299870ff\")) {                    Plotly.newPlot(                        \"9e893e00-6e14-496d-9617-c2ce299870ff\",                        [{\"alignmentgroup\":\"True\",\"bingroup\":\"x\",\"hovertemplate\":\"approximate session length (min)=%{x}<br>count=%{y}<extra></extra>\",\"legendgroup\":\"\",\"marker\":{\"color\":\"#636efa\",\"pattern\":{\"shape\":\"\"}},\"name\":\"\",\"offsetgroup\":\"\",\"orientation\":\"v\",\"showlegend\":false,\"x\":[1.15,9.0,0.18333333333333332,1.5,23.8,0.0,6.116666666666666,0.0,0.0,40.21666666666667,35.86666666666667,10.666666666666666,0.6666666666666666,0.0,12.3,93.48333333333333,0.0,0.0,0.0,0.26666666666666666,10.383333333333333,5.2,0.08333333333333333,53.96666666666667,5.683333333333334,0.3333333333333333,24.6,18.7,0.0,8.633333333333333,24.55,0.0,1.7833333333333334,0.0,0.0,16.816666666666666,0.0,0.0,0.016666666666666666,55.583333333333336,0.0,1.3,0.06666666666666667,0.0,0.7333333333333333,16.5,0.0,0.0,0.0,0.0,14.583333333333334,4.133333333333334,0.0,0.9166666666666666,27.983333333333334,0.0,0.0,0.0,0.0,0.0,0.05,0.25,101.63333333333334,11.283333333333333,0.0,1.4,0.38333333333333336,0.0,0.0,20.383333333333333,0.0,2.55,0.0,112.75,35.4,0.0,0.0,0.0,34.21666666666667,0.0,0.35,0.36666666666666664,0.0,0.0,0.03333333333333333,0.0,0.0,13.65,0.0,0.0,24.55,0.0,0.9166666666666666,18.766666666666666,0.0,1.8333333333333333,1.2333333333333334,0.2,0.4,0.0,40.68333333333333,0.0,0.4,47.916666666666664,0.0,13.116666666666667,1.4833333333333334,0.0,10.033333333333333,7.133333333333334,0.36666666666666664,0.0,0.4166666666666667,3.566666666666667,0.0,0.0,0.4,25.783333333333335,0.8,0.0,0.0,23.383333333333333,29.033333333333335,2.9833333333333334,21.016666666666666,1.05,42.983333333333334,19.933333333333334,0.08333333333333333,0.0,0.38333333333333336,0.0,0.0,67.93333333333334,9.166666666666666,2.45,0.0,0.03333333333333333,0.95,78.38333333333334,0.0,0.0,0.0,0.1,43.46666666666667,0.0,11.516666666666667,1.85,33.75,77.03333333333333,19.75,8.0,0.5166666666666667,0.0,51.483333333333334,0.0,26.666666666666668,37.06666666666667,54.63333333333333,0.0,5.1,0.13333333333333333,0.0,0.0,0.0,3.283333333333333,0.16666666666666666,0.3333333333333333,0.65,5.433333333333334,0.0,49.05,6.4,24.633333333333333,0.0,33.983333333333334,62.86666666666667,113.88333333333334,56.516666666666666,0.0,69.68333333333334,1.4,0.0,17.066666666666666,45.43333333333333,0.0,85.11666666666666,0.0,34.416666666666664,0.8,0.0,17.966666666666665,0.0,0.0,0.0,5.883333333333334,0.7166666666666667,11.366666666666667,0.0,0.2833333333333333,0.0,0.45,0.05,0.0,0.43333333333333335,42.88333333333333,0.15,20.7,0.0,0.0,0.08333333333333333,0.0,0.05,0.0,0.0,8.516666666666667,0.0,0.4666666666666667,0.0,0.0,19.616666666666667,0.0,1.85,0.0,0.15,0.0,15.166666666666666,0.15,27.383333333333333,0.0,0.55,104.96666666666667,0.0,90.7,60.166666666666664,43.733333333333334,13.733333333333333,1.6166666666666667,0.1,0.43333333333333335,0.25,0.0,0.0,3.5833333333333335,0.0,0.0,0.0,0.18333333333333332,1.0333333333333334,0.0,0.4166666666666667,0.0,0.016666666666666666,0.0,56.233333333333334,1.2666666666666666,0.0,14.633333333333333,0.0,49.88333333333333,7.75,33.25,0.0,15.75,1.6333333333333333,66.65,55.7,29.55,0.2833333333333333,1.8833333333333333,35.233333333333334,1.0333333333333334,0.0,0.0,0.15,4.916666666666667,40.18333333333333,0.03333333333333333,0.0,0.0,0.5166666666666667,0.0,44.45,0.5333333333333333,0.0,0.0,30.533333333333335,0.0,0.9,12.533333333333333,0.0,4.716666666666667,0.0,0.0,36.2,1.1166666666666667,0.0,0.0,31.083333333333332,51.4,3.85,0.0,16.533333333333335,1.5166666666666666,0.0,73.43333333333334,113.85,0.0,26.2,79.28333333333333,41.21666666666667,0.0,1.65,0.0,0.7,22.583333333333332,0.6666666666666666,2.5166666666666666,25.683333333333334,0.8333333333333334,2.183333333333333,0.0,0.0,0.0,18.233333333333334,47.36666666666667,6.966666666666667,0.0,0.0,0.0,0.8,0.0,0.0,0.0,0.0,19.05,13.283333333333333,0.0,0.0,0.0,3.05,1.05,60.15,0.0,0.21666666666666667,68.93333333333334,13.616666666666667,0.0,5.516666666666667,32.583333333333336,6.383333333333334,7.883333333333334,0.0,60.2,0.0,11.616666666666667,8.116666666666667,73.55,7.733333333333333,0.0,0.7,0.0,32.21666666666667,58.583333333333336,0.23333333333333334,100.8,12.166666666666666,0.4,8.166666666666666,0.0,0.0,0.0,0.0,60.416666666666664,0.0,0.18333333333333332,0.0,9.7,0.13333333333333333,34.45,0.0,0.08333333333333333,14.383333333333333,0.0,14.5,2.433333333333333,0.06666666666666667,5.45,18.233333333333334,0.4,0.0,4.666666666666667,103.26666666666667,10.416666666666666,3.8833333333333333,1.9,0.05,2.65,0.0,24.966666666666665,1.1166666666666667,5.733333333333333,0.0,0.36666666666666664,0.0,0.03333333333333333,7.65,0.0,0.0,0.0,0.0,9.083333333333334,0.8666666666666667,0.0,0.0,0.0,0.0,0.0,28.166666666666668,0.48333333333333334,0.0,0.0,85.56666666666666,0.0,3.55,52.78333333333333,70.3,0.0,3.6,0.0,0.0,0.0,22.966666666666665,0.0,55.8,0.0,1.0833333333333333,10.816666666666666,0.0,0.0,0.0,0.95,0.35,0.0,0.0,10.666666666666666,0.0,0.0,0.0,16.883333333333333,0.0,5.716666666666667,0.0,0.0,15.383333333333333,0.0,13.5,32.9,0.0,33.4,14.25,0.0,0.0,0.0,10.4,4.016666666666667,0.0,13.65,0.03333333333333333,0.16666666666666666,9.516666666666667,0.0,26.016666666666666,30.566666666666666,0.0,0.21666666666666667,0.0,0.0,0.0,1.0666666666666667,90.78333333333333,14.85,1.1,9.033333333333333,1.8,0.0,8.316666666666666,23.25,0.0,4.366666666666666,0.0,0.0,0.0,36.95,0.0,0.13333333333333333,0.0,0.38333333333333336,0.38333333333333336,0.2833333333333333,6.85,0.0,0.0,61.03333333333333,27.35,0.0,2.533333333333333,0.6333333333333333,29.966666666666665,72.13333333333334,0.0,0.0,26.983333333333334,15.433333333333334,0.0,19.5,0.0,0.0,96.93333333333334,2.8,0.0,0.0,0.0,2.3666666666666667,0.5,0.0,0.08333333333333333,16.666666666666668,0.0,33.45,25.966666666666665,108.23333333333333,0.0,2.5166666666666666,0.0,0.0,1.0166666666666666,0.5,0.0,14.3,0.0,0.0,1.25,0.0,0.0,81.63333333333334,0.8166666666666667,3.5166666666666666,0.0,0.0,95.26666666666667,3.6333333333333333,0.8333333333333334,9.25,0.0,0.0,0.0,0.0,39.46666666666667,0.0,0.0,73.9,22.45,0.26666666666666666,0.7666666666666667,0.0,0.0,3.9,1.8666666666666667,0.0,0.7333333333333333,51.483333333333334,27.35,0.0,0.0,0.35,0.0,23.616666666666667,75.43333333333334,2.7666666666666666,0.0,1.3833333333333333,0.0,0.0,0.0,3.7,1.1666666666666667,1.1833333333333333,116.76666666666667,71.93333333333334,0.0,0.0,0.06666666666666667,3.1,0.0,0.0,3.2666666666666666,0.0,0.0,1.1666666666666667,0.0,0.0,0.0,0.0,13.85,0.0,0.0,36.25,1.9166666666666667,0.0,0.0,0.0,0.05,0.1,17.083333333333332,3.3333333333333335,0.36666666666666664,12.516666666666667,0.0,0.06666666666666667,0.0,0.0,13.483333333333333,0.0,0.0,0.0,20.333333333333332,0.08333333333333333,0.0,1.4,15.416666666666666,0.0,0.03333333333333333,0.05,0.0,0.6,0.0,7.683333333333334,0.0,37.65,7.083333333333333,0.0,67.55,0.0,2.5166666666666666,0.9833333333333333,34.86666666666667,1.0,0.0,10.583333333333334,1.05,20.983333333333334,0.1,47.233333333333334,43.0,2.966666666666667,0.8666666666666667,0.13333333333333333,65.43333333333334,27.716666666666665,6.216666666666667,0.23333333333333334,0.15,0.36666666666666664,100.01666666666667,9.033333333333333,32.81666666666667,2.1666666666666665,0.0,0.7333333333333333,0.0,0.0,2.683333333333333,0.6166666666666667,25.0,25.75,35.05,1.6666666666666667,0.0,1.4333333333333333,6.2,0.0,0.0,1.0833333333333333,73.61666666666666,0.0,0.5,0.0,0.0,1.85,0.0,17.633333333333333,12.466666666666667,4.916666666666667,0.0,0.0,0.4166666666666667,49.0,0.0,0.0,0.0,1.65,0.0,0.0,1.3666666666666667,0.0,0.0,1.0,0.0,0.0,0.0,0.0,13.733333333333333,0.18333333333333332,0.4,0.0,48.88333333333333,0.0,0.0,0.0,20.4,0.0,5.45,0.0,0.15,0.38333333333333336,44.96666666666667,21.466666666666665,0.0,117.13333333333334,0.0,1.4166666666666667,4.016666666666667,13.183333333333334,0.11666666666666667,0.0,63.416666666666664,73.8,0.0,1.3333333333333333,0.0,0.0,0.0,0.0,0.0,0.4166666666666667,87.98333333333333,32.416666666666664,0.5166666666666667,0.0,4.566666666666666,0.0,0.0,12.35,0.03333333333333333,12.35,0.6833333333333333,0.0,3.25,34.083333333333336,0.0,0.0,0.0,32.18333333333333,11.45,0.0,0.0,5.016666666666667,11.616666666666667,3.1333333333333333,0.0,0.0,0.26666666666666666,0.0,12.466666666666667,0.5,31.3,0.0,16.45,0.0,0.0,0.0,111.65,0.0,118.7,39.416666666666664,0.0,0.3,0.0,0.0,0.0,0.4,114.85,0.0,0.9166666666666666,0.0,0.0,1.5333333333333334,17.483333333333334,0.0,0.9166666666666666,0.23333333333333334,42.61666666666667,0.0,95.7,0.0,0.0,0.0,3.05,0.0,0.7333333333333333,0.0,0.0,88.81666666666666,77.28333333333333,0.05,2.6166666666666667,4.983333333333333,0.5,0.45,0.45,14.116666666666667,0.21666666666666667,0.0,8.9,0.9333333333333333,0.0,10.166666666666666,0.0,0.0,0.0,2.3666666666666667,30.35,0.0,1.0333333333333334,3.05,105.46666666666667,11.516666666666667,0.0,10.833333333333334,0.0,13.616666666666667,4.316666666666666,0.25,0.0,0.0,6.033333333333333,0.0,0.25,4.866666666666666,0.0,0.0,0.0,11.433333333333334,23.283333333333335,108.66666666666667,0.0,0.0,0.0,1.8833333333333333,30.216666666666665,0.0,4.75,44.11666666666667,0.0,0.03333333333333333,43.55,0.2833333333333333,0.0,0.0,0.0,0.31666666666666665,0.0,0.0,0.0,0.08333333333333333,1.15,90.13333333333334,0.0,32.416666666666664,27.616666666666667,0.0,0.0,0.0,0.0,0.0,15.266666666666667,2.5833333333333335,0.0,1.0833333333333333,0.21666666666666667,0.0,18.516666666666666,9.433333333333334,106.4,16.9,0.0,0.9833333333333333,1.7833333333333334,2.5833333333333335,0.0],\"xaxis\":\"x\",\"yaxis\":\"y\",\"type\":\"histogram\"}],                        {\"template\":{\"data\":{\"barpolar\":[{\"marker\":{\"line\":{\"color\":\"#E5ECF6\",\"width\":0.5},\"pattern\":{\"fillmode\":\"overlay\",\"size\":10,\"solidity\":0.2}},\"type\":\"barpolar\"}],\"bar\":[{\"error_x\":{\"color\":\"#2a3f5f\"},\"error_y\":{\"color\":\"#2a3f5f\"},\"marker\":{\"line\":{\"color\":\"#E5ECF6\",\"width\":0.5},\"pattern\":{\"fillmode\":\"overlay\",\"size\":10,\"solidity\":0.2}},\"type\":\"bar\"}],\"carpet\":[{\"aaxis\":{\"endlinecolor\":\"#2a3f5f\",\"gridcolor\":\"white\",\"linecolor\":\"white\",\"minorgridcolor\":\"white\",\"startlinecolor\":\"#2a3f5f\"},\"baxis\":{\"endlinecolor\":\"#2a3f5f\",\"gridcolor\":\"white\",\"linecolor\":\"white\",\"minorgridcolor\":\"white\",\"startlinecolor\":\"#2a3f5f\"},\"type\":\"carpet\"}],\"choropleth\":[{\"colorbar\":{\"outlinewidth\":0,\"ticks\":\"\"},\"type\":\"choropleth\"}],\"contourcarpet\":[{\"colorbar\":{\"outlinewidth\":0,\"ticks\":\"\"},\"type\":\"contourcarpet\"}],\"contour\":[{\"colorbar\":{\"outlinewidth\":0,\"ticks\":\"\"},\"colorscale\":[[0.0,\"#0d0887\"],[0.1111111111111111,\"#46039f\"],[0.2222222222222222,\"#7201a8\"],[0.3333333333333333,\"#9c179e\"],[0.4444444444444444,\"#bd3786\"],[0.5555555555555556,\"#d8576b\"],[0.6666666666666666,\"#ed7953\"],[0.7777777777777778,\"#fb9f3a\"],[0.8888888888888888,\"#fdca26\"],[1.0,\"#f0f921\"]],\"type\":\"contour\"}],\"heatmapgl\":[{\"colorbar\":{\"outlinewidth\":0,\"ticks\":\"\"},\"colorscale\":[[0.0,\"#0d0887\"],[0.1111111111111111,\"#46039f\"],[0.2222222222222222,\"#7201a8\"],[0.3333333333333333,\"#9c179e\"],[0.4444444444444444,\"#bd3786\"],[0.5555555555555556,\"#d8576b\"],[0.6666666666666666,\"#ed7953\"],[0.7777777777777778,\"#fb9f3a\"],[0.8888888888888888,\"#fdca26\"],[1.0,\"#f0f921\"]],\"type\":\"heatmapgl\"}],\"heatmap\":[{\"colorbar\":{\"outlinewidth\":0,\"ticks\":\"\"},\"colorscale\":[[0.0,\"#0d0887\"],[0.1111111111111111,\"#46039f\"],[0.2222222222222222,\"#7201a8\"],[0.3333333333333333,\"#9c179e\"],[0.4444444444444444,\"#bd3786\"],[0.5555555555555556,\"#d8576b\"],[0.6666666666666666,\"#ed7953\"],[0.7777777777777778,\"#fb9f3a\"],[0.8888888888888888,\"#fdca26\"],[1.0,\"#f0f921\"]],\"type\":\"heatmap\"}],\"histogram2dcontour\":[{\"colorbar\":{\"outlinewidth\":0,\"ticks\":\"\"},\"colorscale\":[[0.0,\"#0d0887\"],[0.1111111111111111,\"#46039f\"],[0.2222222222222222,\"#7201a8\"],[0.3333333333333333,\"#9c179e\"],[0.4444444444444444,\"#bd3786\"],[0.5555555555555556,\"#d8576b\"],[0.6666666666666666,\"#ed7953\"],[0.7777777777777778,\"#fb9f3a\"],[0.8888888888888888,\"#fdca26\"],[1.0,\"#f0f921\"]],\"type\":\"histogram2dcontour\"}],\"histogram2d\":[{\"colorbar\":{\"outlinewidth\":0,\"ticks\":\"\"},\"colorscale\":[[0.0,\"#0d0887\"],[0.1111111111111111,\"#46039f\"],[0.2222222222222222,\"#7201a8\"],[0.3333333333333333,\"#9c179e\"],[0.4444444444444444,\"#bd3786\"],[0.5555555555555556,\"#d8576b\"],[0.6666666666666666,\"#ed7953\"],[0.7777777777777778,\"#fb9f3a\"],[0.8888888888888888,\"#fdca26\"],[1.0,\"#f0f921\"]],\"type\":\"histogram2d\"}],\"histogram\":[{\"marker\":{\"pattern\":{\"fillmode\":\"overlay\",\"size\":10,\"solidity\":0.2}},\"type\":\"histogram\"}],\"mesh3d\":[{\"colorbar\":{\"outlinewidth\":0,\"ticks\":\"\"},\"type\":\"mesh3d\"}],\"parcoords\":[{\"line\":{\"colorbar\":{\"outlinewidth\":0,\"ticks\":\"\"}},\"type\":\"parcoords\"}],\"pie\":[{\"automargin\":true,\"type\":\"pie\"}],\"scatter3d\":[{\"line\":{\"colorbar\":{\"outlinewidth\":0,\"ticks\":\"\"}},\"marker\":{\"colorbar\":{\"outlinewidth\":0,\"ticks\":\"\"}},\"type\":\"scatter3d\"}],\"scattercarpet\":[{\"marker\":{\"colorbar\":{\"outlinewidth\":0,\"ticks\":\"\"}},\"type\":\"scattercarpet\"}],\"scattergeo\":[{\"marker\":{\"colorbar\":{\"outlinewidth\":0,\"ticks\":\"\"}},\"type\":\"scattergeo\"}],\"scattergl\":[{\"marker\":{\"colorbar\":{\"outlinewidth\":0,\"ticks\":\"\"}},\"type\":\"scattergl\"}],\"scattermapbox\":[{\"marker\":{\"colorbar\":{\"outlinewidth\":0,\"ticks\":\"\"}},\"type\":\"scattermapbox\"}],\"scatterpolargl\":[{\"marker\":{\"colorbar\":{\"outlinewidth\":0,\"ticks\":\"\"}},\"type\":\"scatterpolargl\"}],\"scatterpolar\":[{\"marker\":{\"colorbar\":{\"outlinewidth\":0,\"ticks\":\"\"}},\"type\":\"scatterpolar\"}],\"scatter\":[{\"fillpattern\":{\"fillmode\":\"overlay\",\"size\":10,\"solidity\":0.2},\"type\":\"scatter\"}],\"scatterternary\":[{\"marker\":{\"colorbar\":{\"outlinewidth\":0,\"ticks\":\"\"}},\"type\":\"scatterternary\"}],\"surface\":[{\"colorbar\":{\"outlinewidth\":0,\"ticks\":\"\"},\"colorscale\":[[0.0,\"#0d0887\"],[0.1111111111111111,\"#46039f\"],[0.2222222222222222,\"#7201a8\"],[0.3333333333333333,\"#9c179e\"],[0.4444444444444444,\"#bd3786\"],[0.5555555555555556,\"#d8576b\"],[0.6666666666666666,\"#ed7953\"],[0.7777777777777778,\"#fb9f3a\"],[0.8888888888888888,\"#fdca26\"],[1.0,\"#f0f921\"]],\"type\":\"surface\"}],\"table\":[{\"cells\":{\"fill\":{\"color\":\"#EBF0F8\"},\"line\":{\"color\":\"white\"}},\"header\":{\"fill\":{\"color\":\"#C8D4E3\"},\"line\":{\"color\":\"white\"}},\"type\":\"table\"}]},\"layout\":{\"annotationdefaults\":{\"arrowcolor\":\"#2a3f5f\",\"arrowhead\":0,\"arrowwidth\":1},\"autotypenumbers\":\"strict\",\"coloraxis\":{\"colorbar\":{\"outlinewidth\":0,\"ticks\":\"\"}},\"colorscale\":{\"diverging\":[[0,\"#8e0152\"],[0.1,\"#c51b7d\"],[0.2,\"#de77ae\"],[0.3,\"#f1b6da\"],[0.4,\"#fde0ef\"],[0.5,\"#f7f7f7\"],[0.6,\"#e6f5d0\"],[0.7,\"#b8e186\"],[0.8,\"#7fbc41\"],[0.9,\"#4d9221\"],[1,\"#276419\"]],\"sequential\":[[0.0,\"#0d0887\"],[0.1111111111111111,\"#46039f\"],[0.2222222222222222,\"#7201a8\"],[0.3333333333333333,\"#9c179e\"],[0.4444444444444444,\"#bd3786\"],[0.5555555555555556,\"#d8576b\"],[0.6666666666666666,\"#ed7953\"],[0.7777777777777778,\"#fb9f3a\"],[0.8888888888888888,\"#fdca26\"],[1.0,\"#f0f921\"]],\"sequentialminus\":[[0.0,\"#0d0887\"],[0.1111111111111111,\"#46039f\"],[0.2222222222222222,\"#7201a8\"],[0.3333333333333333,\"#9c179e\"],[0.4444444444444444,\"#bd3786\"],[0.5555555555555556,\"#d8576b\"],[0.6666666666666666,\"#ed7953\"],[0.7777777777777778,\"#fb9f3a\"],[0.8888888888888888,\"#fdca26\"],[1.0,\"#f0f921\"]]},\"colorway\":[\"#636efa\",\"#EF553B\",\"#00cc96\",\"#ab63fa\",\"#FFA15A\",\"#19d3f3\",\"#FF6692\",\"#B6E880\",\"#FF97FF\",\"#FECB52\"],\"font\":{\"color\":\"#2a3f5f\",\"family\":\"Montserrat\",\"size\":16},\"geo\":{\"bgcolor\":\"white\",\"lakecolor\":\"white\",\"landcolor\":\"#E5ECF6\",\"showlakes\":true,\"showland\":true,\"subunitcolor\":\"white\"},\"hoverlabel\":{\"align\":\"left\"},\"hovermode\":\"closest\",\"mapbox\":{\"style\":\"light\"},\"paper_bgcolor\":\"white\",\"plot_bgcolor\":\"#E5ECF6\",\"polar\":{\"angularaxis\":{\"gridcolor\":\"white\",\"linecolor\":\"white\",\"ticks\":\"\"},\"bgcolor\":\"#E5ECF6\",\"radialaxis\":{\"gridcolor\":\"white\",\"linecolor\":\"white\",\"ticks\":\"\"}},\"scene\":{\"xaxis\":{\"backgroundcolor\":\"#E5ECF6\",\"gridcolor\":\"white\",\"gridwidth\":2,\"linecolor\":\"white\",\"showbackground\":true,\"ticks\":\"\",\"zerolinecolor\":\"white\"},\"yaxis\":{\"backgroundcolor\":\"#E5ECF6\",\"gridcolor\":\"white\",\"gridwidth\":2,\"linecolor\":\"white\",\"showbackground\":true,\"ticks\":\"\",\"zerolinecolor\":\"white\"},\"zaxis\":{\"backgroundcolor\":\"#E5ECF6\",\"gridcolor\":\"white\",\"gridwidth\":2,\"linecolor\":\"white\",\"showbackground\":true,\"ticks\":\"\",\"zerolinecolor\":\"white\"}},\"shapedefaults\":{\"line\":{\"color\":\"#2a3f5f\"}},\"ternary\":{\"aaxis\":{\"gridcolor\":\"white\",\"linecolor\":\"white\",\"ticks\":\"\"},\"baxis\":{\"gridcolor\":\"white\",\"linecolor\":\"white\",\"ticks\":\"\"},\"bgcolor\":\"#E5ECF6\",\"caxis\":{\"gridcolor\":\"white\",\"linecolor\":\"white\",\"ticks\":\"\"}},\"title\":{\"x\":0.05},\"xaxis\":{\"automargin\":true,\"gridcolor\":\"white\",\"linecolor\":\"white\",\"ticks\":\"\",\"title\":{\"standoff\":15},\"zerolinecolor\":\"white\",\"zerolinewidth\":2},\"yaxis\":{\"automargin\":true,\"gridcolor\":\"white\",\"linecolor\":\"white\",\"ticks\":\"\",\"title\":{\"standoff\":15},\"zerolinecolor\":\"white\",\"zerolinewidth\":2},\"margin\":{\"b\":25,\"l\":25,\"r\":25,\"t\":50}}},\"xaxis\":{\"anchor\":\"y\",\"domain\":[0.0,1.0],\"title\":{\"text\":\"approximate session length (min)\"}},\"yaxis\":{\"anchor\":\"x\",\"domain\":[0.0,1.0],\"title\":{\"text\":\"count\"}},\"legend\":{\"tracegroupgap\":0},\"barmode\":\"relative\"},                        {\"responsive\": true}                    ).then(function(){\n",
       "                            \n",
       "var gd = document.getElementById('9e893e00-6e14-496d-9617-c2ce299870ff');\n",
       "var x = new MutationObserver(function (mutations, observer) {{\n",
       "        var display = window.getComputedStyle(gd).display;\n",
       "        if (!display || display === 'none') {{\n",
       "            console.log([gd, 'removed!']);\n",
       "            Plotly.purge(gd);\n",
       "            observer.disconnect();\n",
       "        }}\n",
       "}});\n",
       "\n",
       "// Listen for the removal of the full notebook cells\n",
       "var notebookContainer = gd.closest('#notebook-container');\n",
       "if (notebookContainer) {{\n",
       "    x.observe(notebookContainer, {childList: true});\n",
       "}}\n",
       "\n",
       "// Listen for the clearing of the current output cell\n",
       "var outputEl = gd.closest('.output');\n",
       "if (outputEl) {{\n",
       "    x.observe(outputEl, {childList: true});\n",
       "}}\n",
       "\n",
       "                        })                };                });            </script>        </div>"
      ]
     },
     "metadata": {},
     "output_type": "display_data"
    }
   ],
   "source": [
    "short_session = (\n",
    "    session\n",
    "    .drop(long_session.index)\n",
    "    .assign(\n",
    "        approx_duration=lambda df: df[\"approx_duration\"].dt.seconds / 60\n",
    "    )\n",
    ")\n",
    "\n",
    "px.histogram(\n",
    "    short_session,\n",
    "    x=\"approx_duration\",\n",
    "    labels={\"approx_duration\": \"approximate session length (min)\"}\n",
    ")"
   ]
  },
  {
   "cell_type": "code",
   "execution_count": null,
   "id": "de0e3926-eb07-4d0d-b108-263c9aedb4a5",
   "metadata": {},
   "outputs": [],
   "source": []
  }
 ],
 "metadata": {
  "kernelspec": {
   "display_name": "Python 3 (ipykernel)",
   "language": "python",
   "name": "python3"
  },
  "language_info": {
   "codemirror_mode": {
    "name": "ipython",
    "version": 3
   },
   "file_extension": ".py",
   "mimetype": "text/x-python",
   "name": "python",
   "nbconvert_exporter": "python",
   "pygments_lexer": "ipython3",
   "version": "3.7.13"
  }
 },
 "nbformat": 4,
 "nbformat_minor": 5
}
