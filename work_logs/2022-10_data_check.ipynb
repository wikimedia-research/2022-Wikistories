{
 "cells": [
  {
   "cell_type": "code",
   "execution_count": 18,
   "id": "913ff896-aca9-44b8-bd74-07d7f182a46a",
   "metadata": {},
   "outputs": [],
   "source": [
    "import wmfdata as wmf\n",
    "from wmfdata.utils import (\n",
    "    pd_display_all,\n",
    "    df_to_remarkup\n",
    ")"
   ]
  },
  {
   "cell_type": "markdown",
   "id": "9d384e42-36e6-4a90-acb3-9a61838b6d93",
   "metadata": {},
   "source": [
    "# Contributor events"
   ]
  },
  {
   "cell_type": "code",
   "execution_count": 9,
   "id": "27872e41-8e2d-41bb-897a-becd84270f19",
   "metadata": {},
   "outputs": [],
   "source": [
    "contributor_event = wmf.presto.run(\"\"\"\n",
    "SELECT\n",
    "    FROM_ISO8601_TIMESTAMP(meta.dt) AS dt,\n",
    "    meta.domain AS domain,\n",
    "    access_method,\n",
    "    context_page_title,\n",
    "    event_type,\n",
    "    publish_failure_message,\n",
    "    story_already_exists,\n",
    "    story_title,\n",
    "    user_edit_count_bucket,\n",
    "    user_is_anonymous,\n",
    "    user_name,\n",
    "    contribution_attempt_id\n",
    "FROM event.mediawiki_wikistories_contribution_event\n",
    "WHERE\n",
    "    year >= 0\n",
    "\"\"\")"
   ]
  },
  {
   "cell_type": "code",
   "execution_count": null,
   "id": "8491c827-b0bf-4cbc-a4e7-ee64ae023f33",
   "metadata": {},
   "outputs": [],
   "source": [
    "contributor_event.describe()"
   ]
  },
  {
   "cell_type": "markdown",
   "id": "7bf4729c-4c1e-443e-914b-22bb57e07ce6",
   "metadata": {},
   "source": [
    "Well, this is bizarre! This field was introduced a few weeks ago, so all the null values are expected. The `codfw` and `eqiad` values are not, though."
   ]
  },
  {
   "cell_type": "code",
   "execution_count": 22,
   "id": "116241b8-6703-44d0-8eaf-94a30462cf2d",
   "metadata": {},
   "outputs": [
    {
     "data": {
      "text/html": [
       "<div>\n",
       "<style scoped>\n",
       "    .dataframe tbody tr th:only-of-type {\n",
       "        vertical-align: middle;\n",
       "    }\n",
       "\n",
       "    .dataframe tbody tr th {\n",
       "        vertical-align: top;\n",
       "    }\n",
       "\n",
       "    .dataframe thead th {\n",
       "        text-align: right;\n",
       "    }\n",
       "</style>\n",
       "<table border=\"1\" class=\"dataframe\">\n",
       "  <thead>\n",
       "    <tr style=\"text-align: right;\">\n",
       "      <th></th>\n",
       "      <th>value</th>\n",
       "      <th>frequency</th>\n",
       "    </tr>\n",
       "  </thead>\n",
       "  <tbody>\n",
       "    <tr>\n",
       "      <th>0</th>\n",
       "      <td>NaN</td>\n",
       "      <td>1340</td>\n",
       "    </tr>\n",
       "    <tr>\n",
       "      <th>1</th>\n",
       "      <td>codfw</td>\n",
       "      <td>1215</td>\n",
       "    </tr>\n",
       "    <tr>\n",
       "      <th>2</th>\n",
       "      <td>eqiad</td>\n",
       "      <td>50</td>\n",
       "    </tr>\n",
       "    <tr>\n",
       "      <th>3</th>\n",
       "      <td>7d4a499adcd850ec5769</td>\n",
       "      <td>3</td>\n",
       "    </tr>\n",
       "    <tr>\n",
       "      <th>4</th>\n",
       "      <td>c8d489b1613f97a9124c</td>\n",
       "      <td>3</td>\n",
       "    </tr>\n",
       "    <tr>\n",
       "      <th>5</th>\n",
       "      <td>ce00b7c2a11114e5ea50</td>\n",
       "      <td>2</td>\n",
       "    </tr>\n",
       "    <tr>\n",
       "      <th>6</th>\n",
       "      <td>92de0c331e9d2d29fae3</td>\n",
       "      <td>2</td>\n",
       "    </tr>\n",
       "    <tr>\n",
       "      <th>7</th>\n",
       "      <td>cdfce631ceeaab2e262c</td>\n",
       "      <td>2</td>\n",
       "    </tr>\n",
       "    <tr>\n",
       "      <th>8</th>\n",
       "      <td>03f21bdc208d425b7ffd</td>\n",
       "      <td>2</td>\n",
       "    </tr>\n",
       "    <tr>\n",
       "      <th>9</th>\n",
       "      <td>88f3a3f6b6b005c520e8</td>\n",
       "      <td>2</td>\n",
       "    </tr>\n",
       "  </tbody>\n",
       "</table>\n",
       "</div>"
      ],
      "text/plain": [
       "                  value  frequency\n",
       "0                   NaN       1340\n",
       "1                 codfw       1215\n",
       "2                 eqiad         50\n",
       "3  7d4a499adcd850ec5769          3\n",
       "4  c8d489b1613f97a9124c          3\n",
       "5  ce00b7c2a11114e5ea50          2\n",
       "6  92de0c331e9d2d29fae3          2\n",
       "7  cdfce631ceeaab2e262c          2\n",
       "8  03f21bdc208d425b7ffd          2\n",
       "9  88f3a3f6b6b005c520e8          2"
      ]
     },
     "execution_count": 22,
     "metadata": {},
     "output_type": "execute_result"
    }
   ],
   "source": [
    "attempt_id = (\n",
    "    contributor_event\n",
    "    [\"contribution_attempt_id\"]\n",
    "    .value_counts(dropna=False)\n",
    "    .head(10)\n",
    "    .to_frame()\n",
    "    .reset_index()\n",
    "    .rename({\n",
    "        \"index\": \"value\",\n",
    "        \"contribution_attempt_id\": \"frequency\"\n",
    "    }, axis=\"columns\")\n",
    ")\n",
    "\n",
    "attempt_id"
   ]
  },
  {
   "cell_type": "markdown",
   "id": "39671097-9c39-438e-a4fb-dd1dfeaccfa8",
   "metadata": {},
   "source": [
    "However, if we only look at the data since the start of the deployment of the code setting this field, those weird values go away. That suggests the problem happened after ingestion, not in the instrumentation code."
   ]
  },
  {
   "cell_type": "code",
   "execution_count": 25,
   "id": "f329aaea-a485-450a-afbf-1438985e4b2b",
   "metadata": {},
   "outputs": [
    {
     "data": {
      "text/html": [
       "<div>\n",
       "<style scoped>\n",
       "    .dataframe tbody tr th:only-of-type {\n",
       "        vertical-align: middle;\n",
       "    }\n",
       "\n",
       "    .dataframe tbody tr th {\n",
       "        vertical-align: top;\n",
       "    }\n",
       "\n",
       "    .dataframe thead th {\n",
       "        text-align: right;\n",
       "    }\n",
       "</style>\n",
       "<table border=\"1\" class=\"dataframe\">\n",
       "  <thead>\n",
       "    <tr style=\"text-align: right;\">\n",
       "      <th></th>\n",
       "      <th>value</th>\n",
       "      <th>frequency</th>\n",
       "    </tr>\n",
       "  </thead>\n",
       "  <tbody>\n",
       "    <tr>\n",
       "      <th>0</th>\n",
       "      <td>NaN</td>\n",
       "      <td>27</td>\n",
       "    </tr>\n",
       "    <tr>\n",
       "      <th>1</th>\n",
       "      <td>7d4a499adcd850ec5769</td>\n",
       "      <td>3</td>\n",
       "    </tr>\n",
       "    <tr>\n",
       "      <th>2</th>\n",
       "      <td>c8d489b1613f97a9124c</td>\n",
       "      <td>3</td>\n",
       "    </tr>\n",
       "    <tr>\n",
       "      <th>3</th>\n",
       "      <td>3bd60ed9a56b8fb2fda0</td>\n",
       "      <td>2</td>\n",
       "    </tr>\n",
       "    <tr>\n",
       "      <th>4</th>\n",
       "      <td>cdfce631ceeaab2e262c</td>\n",
       "      <td>2</td>\n",
       "    </tr>\n",
       "    <tr>\n",
       "      <th>5</th>\n",
       "      <td>65de010762602c8ea53c</td>\n",
       "      <td>2</td>\n",
       "    </tr>\n",
       "    <tr>\n",
       "      <th>6</th>\n",
       "      <td>56e1fecbdd705f7ba006</td>\n",
       "      <td>2</td>\n",
       "    </tr>\n",
       "    <tr>\n",
       "      <th>7</th>\n",
       "      <td>a6c128c4b0315732fbf5</td>\n",
       "      <td>2</td>\n",
       "    </tr>\n",
       "    <tr>\n",
       "      <th>8</th>\n",
       "      <td>92de0c331e9d2d29fae3</td>\n",
       "      <td>2</td>\n",
       "    </tr>\n",
       "    <tr>\n",
       "      <th>9</th>\n",
       "      <td>3aa0bd519016f1a5ed58</td>\n",
       "      <td>2</td>\n",
       "    </tr>\n",
       "  </tbody>\n",
       "</table>\n",
       "</div>"
      ],
      "text/plain": [
       "                  value  frequency\n",
       "0                   NaN         27\n",
       "1  7d4a499adcd850ec5769          3\n",
       "2  c8d489b1613f97a9124c          3\n",
       "3  3bd60ed9a56b8fb2fda0          2\n",
       "4  cdfce631ceeaab2e262c          2\n",
       "5  65de010762602c8ea53c          2\n",
       "6  56e1fecbdd705f7ba006          2\n",
       "7  a6c128c4b0315732fbf5          2\n",
       "8  92de0c331e9d2d29fae3          2\n",
       "9  3aa0bd519016f1a5ed58          2"
      ]
     },
     "execution_count": 25,
     "metadata": {},
     "output_type": "execute_result"
    }
   ],
   "source": [
    "recent_attempt_id = (\n",
    "    contributor_event\n",
    "    .query(\"dt >= '2022-10-17'\")\n",
    "    [\"contribution_attempt_id\"]\n",
    "    .value_counts(dropna=False)\n",
    "    .head(10)\n",
    "    .to_frame()\n",
    "    .reset_index()\n",
    "    .rename({\n",
    "        \"index\": \"value\",\n",
    "        \"contribution_attempt_id\": \"frequency\"\n",
    "    }, axis=\"columns\")\n",
    ")\n",
    "\n",
    "recent_attempt_id"
   ]
  },
  {
   "cell_type": "markdown",
   "id": "d484fcf7-862b-497c-9c43-6a10850a8190",
   "metadata": {},
   "source": [
    "These do seem to be normal events otherwise."
   ]
  },
  {
   "cell_type": "code",
   "execution_count": null,
   "id": "db56b92f-4a38-4828-a036-b4d3b3fb23fc",
   "metadata": {},
   "outputs": [],
   "source": [
    "(\n",
    "    contributor_event\n",
    "    .query(\"contribution_attempt_id in ('codfw', 'eqiad')\")\n",
    "    .sample(10)\n",
    "    .pipe(pd_display_all)\n",
    ")"
   ]
  },
  {
   "cell_type": "markdown",
   "id": "6ce0f3c3-bb4c-4e6a-8c62-123e78533ddc",
   "metadata": {},
   "source": [
    "Ahh, it seems like the datacenter field is getting duplicated into this one?"
   ]
  },
  {
   "cell_type": "code",
   "execution_count": 33,
   "id": "b34ce735-de6b-45dc-bfe5-888ba8f75bcd",
   "metadata": {},
   "outputs": [],
   "source": [
    "attempt_id_datacenter = wmf.presto.run(\"\"\"\n",
    "SELECT\n",
    "    contribution_attempt_id,\n",
    "    datacenter\n",
    "FROM event.mediawiki_wikistories_contribution_event\n",
    "WHERE\n",
    "    year >= 0\n",
    "    AND contribution_attempt_id IN ('codfw', 'eqiad')\n",
    "\"\"\")"
   ]
  },
  {
   "cell_type": "code",
   "execution_count": 34,
   "id": "ef17db90-a955-4832-a5b0-538ee52934fc",
   "metadata": {},
   "outputs": [
    {
     "data": {
      "text/plain": [
       "contribution_attempt_id  datacenter\n",
       "codfw                    codfw         1215\n",
       "eqiad                    eqiad           50\n",
       "dtype: int64"
      ]
     },
     "execution_count": 34,
     "metadata": {},
     "output_type": "execute_result"
    }
   ],
   "source": [
    "attempt_id_datacenter.value_counts(dropna=False)"
   ]
  },
  {
   "cell_type": "markdown",
   "id": "e1b186d1-90b0-4687-8281-f5c2eb885e02",
   "metadata": {},
   "source": [
    "So far, all of the different paths through the funnel that we've recorded look very reasonable."
   ]
  },
  {
   "cell_type": "code",
   "execution_count": 45,
   "id": "d0dacd2b-b141-4e86-b336-58b4f1ddb809",
   "metadata": {},
   "outputs": [
    {
     "data": {
      "text/plain": [
       "story_builder_open                                    68\n",
       "story_builder_open-publish_success                    25\n",
       "story_builder_open-publish_failure-publish_success     2\n",
       "Name: event_type, dtype: int64"
      ]
     },
     "execution_count": 45,
     "metadata": {},
     "output_type": "execute_result"
    }
   ],
   "source": [
    "cai = contributor_event[\"contribution_attempt_id\"].notna()\n",
    "\n",
    "(\n",
    "    contributor_event\n",
    "    .query(\"dt >= '2022-10-17' & @cai\")\n",
    "    .sort_values(\"dt\")\n",
    "    .groupby(\"contribution_attempt_id\")\n",
    "    [\"event_type\"]\n",
    "    .agg(lambda s: \"-\".join(s))\n",
    "    .value_counts()\n",
    ")"
   ]
  },
  {
   "cell_type": "markdown",
   "id": "17260eca-841b-4249-bded-d438a1b6e9df",
   "metadata": {},
   "source": [
    "`story_already_exists` is no longer hardcoded to false."
   ]
  },
  {
   "cell_type": "code",
   "execution_count": 49,
   "id": "ea696191-ec76-42ad-9f1b-eb558889c45d",
   "metadata": {},
   "outputs": [
    {
     "data": {
      "text/plain": [
       "False    321\n",
       "True      40\n",
       "Name: story_already_exists, dtype: int64"
      ]
     },
     "execution_count": 49,
     "metadata": {},
     "output_type": "execute_result"
    }
   ],
   "source": [
    "(\n",
    "    contributor_event\n",
    "    .query(\"dt >= '2022-10-03' & event_type == 'publish_success'\")\n",
    "    [\"story_already_exists\"]\n",
    "    .value_counts()\n",
    ")"
   ]
  },
  {
   "cell_type": "markdown",
   "id": "ae6cb2cf-8891-4956-9c54-a444440493d5",
   "metadata": {},
   "source": [
    "For this sample, the values of `story_already_exists` match the on-wiki history."
   ]
  },
  {
   "cell_type": "code",
   "execution_count": null,
   "id": "a0110a3e-078f-45e2-aae3-bf2272c58412",
   "metadata": {},
   "outputs": [],
   "source": [
    "(\n",
    "    contributor_event\n",
    "    .query(\"dt >= '2022-10-03' & event_type == 'publish_success'\")\n",
    "    .sample(10)\n",
    "    [[\"dt\", \"story_title\", \"user_name\", \"story_already_exists\"]]\n",
    ")"
   ]
  },
  {
   "cell_type": "markdown",
   "id": "10f3d9d1-14fa-477f-bd10-604cd53dafaa",
   "metadata": {},
   "source": [
    "# Consumer event"
   ]
  },
  {
   "cell_type": "code",
   "execution_count": 51,
   "id": "c12b63d1-1905-4fdd-a6a4-ecba1a7ccb40",
   "metadata": {},
   "outputs": [],
   "source": [
    "consumer_events = wmf.presto.run(\"\"\"\n",
    "SELECT\n",
    "    FROM_ISO8601_TIMESTAMP(meta.dt) AS dt,\n",
    "    meta.domain AS domain,\n",
    "    access_method,\n",
    "    activity_session_id,\n",
    "    event_type,\n",
    "    experiment_entry_date,\n",
    "    experiment_group,\n",
    "    next_story_opened,\n",
    "    page_story_count,\n",
    "    page_title,\n",
    "    page_visible_time,\n",
    "    pageview_id,\n",
    "    referrer_type,\n",
    "    session_days,\n",
    "    session_is_first_of_day,\n",
    "    story_completed,\n",
    "    story_frame_count,\n",
    "    story_frames_viewed,\n",
    "    story_open_time,\n",
    "    story_title\n",
    "FROM event.mediawiki_wikistories_consumption_event\n",
    "WHERE\n",
    "    year >= 0\n",
    "\"\"\")"
   ]
  },
  {
   "cell_type": "markdown",
   "id": "7634da07-5e46-4a0f-a2ad-4896aad42492",
   "metadata": {},
   "source": [
    "Only story view events have `story_open_time` logged."
   ]
  },
  {
   "cell_type": "code",
   "execution_count": 57,
   "id": "89bddd55-8d51-4fc3-bc1f-4e9e217cb1c6",
   "metadata": {},
   "outputs": [
    {
     "data": {
      "text/plain": [
       "story_view    2108\n",
       "Name: event_type, dtype: int64"
      ]
     },
     "execution_count": 57,
     "metadata": {},
     "output_type": "execute_result"
    }
   ],
   "source": [
    "(\n",
    "    consumer_events\n",
    "    [lambda df: df[\"story_open_time\"].notna()]\n",
    "    [\"event_type\"]\n",
    "    .value_counts()\n",
    ")"
   ]
  },
  {
   "cell_type": "markdown",
   "id": "57440a53-734d-4fa7-89ae-108c8de88ea2",
   "metadata": {},
   "source": [
    "All story_view events have a `story_open_time`."
   ]
  },
  {
   "cell_type": "code",
   "execution_count": 58,
   "id": "8c855c8e-64e7-48f9-88ab-d9a8a8db2803",
   "metadata": {},
   "outputs": [
    {
     "data": {
      "text/html": [
       "<div>\n",
       "<style scoped>\n",
       "    .dataframe tbody tr th:only-of-type {\n",
       "        vertical-align: middle;\n",
       "    }\n",
       "\n",
       "    .dataframe tbody tr th {\n",
       "        vertical-align: top;\n",
       "    }\n",
       "\n",
       "    .dataframe thead th {\n",
       "        text-align: right;\n",
       "    }\n",
       "</style>\n",
       "<table border=\"1\" class=\"dataframe\">\n",
       "  <thead>\n",
       "    <tr style=\"text-align: right;\">\n",
       "      <th></th>\n",
       "      <th>dt</th>\n",
       "      <th>domain</th>\n",
       "      <th>access_method</th>\n",
       "      <th>activity_session_id</th>\n",
       "      <th>event_type</th>\n",
       "      <th>experiment_entry_date</th>\n",
       "      <th>experiment_group</th>\n",
       "      <th>next_story_opened</th>\n",
       "      <th>page_story_count</th>\n",
       "      <th>page_title</th>\n",
       "      <th>page_visible_time</th>\n",
       "      <th>pageview_id</th>\n",
       "      <th>referrer_type</th>\n",
       "      <th>session_days</th>\n",
       "      <th>session_is_first_of_day</th>\n",
       "      <th>story_completed</th>\n",
       "      <th>story_frame_count</th>\n",
       "      <th>story_frames_viewed</th>\n",
       "      <th>story_open_time</th>\n",
       "      <th>story_title</th>\n",
       "    </tr>\n",
       "  </thead>\n",
       "  <tbody>\n",
       "  </tbody>\n",
       "</table>\n",
       "</div>"
      ],
      "text/plain": [
       "Empty DataFrame\n",
       "Columns: [dt, domain, access_method, activity_session_id, event_type, experiment_entry_date, experiment_group, next_story_opened, page_story_count, page_title, page_visible_time, pageview_id, referrer_type, session_days, session_is_first_of_day, story_completed, story_frame_count, story_frames_viewed, story_open_time, story_title]\n",
       "Index: []"
      ]
     },
     "execution_count": 58,
     "metadata": {},
     "output_type": "execute_result"
    }
   ],
   "source": [
    "(\n",
    "    consumer_events\n",
    "    .query(\"event_type == 'story_view'\")\n",
    "    [lambda df: df[\"story_open_time\"].isna()]\n",
    ")"
   ]
  },
  {
   "cell_type": "code",
   "execution_count": 63,
   "id": "ede84b98-4679-4b95-812a-39b29c25290d",
   "metadata": {},
   "outputs": [
    {
     "data": {
      "text/plain": [
       "0       49\n",
       "1       16\n",
       "3        8\n",
       "4       74\n",
       "7        2\n",
       "        ..\n",
       "5267     5\n",
       "5268     6\n",
       "5269     5\n",
       "5271    26\n",
       "5278     4\n",
       "Name: story_open_time, Length: 2108, dtype: int64"
      ]
     },
     "execution_count": 63,
     "metadata": {},
     "output_type": "execute_result"
    }
   ],
   "source": [
    "(consumer_events[\"story_open_time\"].dropna() / 1000).round().astype(int)"
   ]
  },
  {
   "cell_type": "markdown",
   "id": "fcaea550-14ec-41ff-aa93-bb5a4dfa595e",
   "metadata": {},
   "source": [
    "Successive story open times within the same pageview do not always increase, which means the `story_open_time` is calculated indepedently for each story rather than being cumulative. I will have to note that in the schema documentation."
   ]
  },
  {
   "cell_type": "code",
   "execution_count": 69,
   "id": "33ba06e3-c77c-488b-9c7b-4bd34158b732",
   "metadata": {},
   "outputs": [
    {
     "data": {
      "text/plain": [
       "pageview_id\n",
       "634bb09f447ae4e965e9            20\n",
       "f26da9cd44b0bdf9f2a8    24, 16, 19\n",
       "2e362abe04de3e3bf06d             7\n",
       "7caa52d18acf2a34f262      151, 826\n",
       "1b4bc20a98c78a57d81b             5\n",
       "e4066e7cf25baf7a45ab             5\n",
       "20e510b644c9b493e0fa             1\n",
       "fd97f3230b41126b8d0b         8, 15\n",
       "97c1fc5e2d359dcc4d30           153\n",
       "ccd5db5a214ba3bdb087             2\n",
       "493cfb48ca348922033e          4, 8\n",
       "8a8cdb2660a6259884c3    43, 87, 58\n",
       "72be0d4c5f3d31be5011             6\n",
       "4a398535074c104ac958             5\n",
       "85c19851e13ca9188d4d            26\n",
       "bfa21d7a64a99e1007a2     12, 16, 2\n",
       "10b46233b0773c67e96a             2\n",
       "e2df73fc4a4df1b346f9             3\n",
       "43e30ff6aab618402c39             7\n",
       "74a79927de2f04524754         3, 75\n",
       "6eb6d859c7f5a63d0676            23\n",
       "a1dc725f6d2386d86bd6          2, 5\n",
       "ed3cb29074a60050ef1e            11\n",
       "615312e168d7026a447f            39\n",
       "bb99b8ac1dda60ae4e90           121\n",
       "Name: story_open_time, dtype: object"
      ]
     },
     "execution_count": 69,
     "metadata": {},
     "output_type": "execute_result"
    }
   ],
   "source": [
    "(\n",
    "    consumer_events\n",
    "    .query(\"event_type == 'story_view'\")\n",
    "    .assign(story_open_time=lambda df: (df[\"story_open_time\"] / 1000).round().astype(int))\n",
    "    .sort_values(\"dt\")\n",
    "    .groupby(\"pageview_id\")\n",
    "    [\"story_open_time\"]\n",
    "    .agg(lambda s: \", \".join(s.astype(str)))\n",
    "    .sample(25)\n",
    ")"
   ]
  }
 ],
 "metadata": {
  "kernelspec": {
   "display_name": "Python 3 (ipykernel)",
   "language": "python",
   "name": "python3"
  },
  "language_info": {
   "codemirror_mode": {
    "name": "ipython",
    "version": 3
   },
   "file_extension": ".py",
   "mimetype": "text/x-python",
   "name": "python",
   "nbconvert_exporter": "python",
   "pygments_lexer": "ipython3",
   "version": "3.7.13"
  }
 },
 "nbformat": 4,
 "nbformat_minor": 5
}
