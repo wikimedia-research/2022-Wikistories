{
 "cells": [
  {
   "cell_type": "code",
   "execution_count": 1,
   "id": "913ff896-aca9-44b8-bd74-07d7f182a46a",
   "metadata": {},
   "outputs": [],
   "source": [
    "import wmfdata as wmf\n",
    "from wmfdata.utils import pd_display_all"
   ]
  },
  {
   "cell_type": "markdown",
   "id": "9d384e42-36e6-4a90-acb3-9a61838b6d93",
   "metadata": {},
   "source": [
    "# Contributor events"
   ]
  },
  {
   "cell_type": "code",
   "execution_count": 3,
   "id": "27872e41-8e2d-41bb-897a-becd84270f19",
   "metadata": {},
   "outputs": [],
   "source": [
    "contributor_events = wmf.presto.run(\"\"\"\n",
    "SELECT\n",
    "    FROM_ISO8601_TIMESTAMP(meta.dt) AS dt,\n",
    "    meta.domain AS domain,\n",
    "    access_method,\n",
    "    context_page_title,\n",
    "    event_type,\n",
    "    publish_failure_message,\n",
    "    story_already_exists,\n",
    "    story_title,\n",
    "    user_edit_count_bucket,\n",
    "    user_is_anonymous,\n",
    "    user_name\n",
    "FROM event.mediawiki_wikistories_contribution_event\n",
    "WHERE\n",
    "    year >= 0\n",
    "\"\"\")"
   ]
  },
  {
   "cell_type": "code",
   "execution_count": null,
   "id": "8491c827-b0bf-4cbc-a4e7-ee64ae023f33",
   "metadata": {},
   "outputs": [],
   "source": [
    "contributor_events.describe()"
   ]
  },
  {
   "cell_type": "code",
   "execution_count": 19,
   "id": "6e2adfa4-f239-4c7d-ae2f-186e37c8b0a5",
   "metadata": {},
   "outputs": [
    {
     "data": {
      "text/plain": [
       "story_builder_open    541\n",
       "publish_success       124\n",
       "publish_failure        19\n",
       "Name: event_type, dtype: int64"
      ]
     },
     "execution_count": 19,
     "metadata": {},
     "output_type": "execute_result"
    }
   ],
   "source": [
    "contributor_events[\"event_type\"].value_counts()"
   ]
  },
  {
   "cell_type": "markdown",
   "id": "8eeca538-55ce-4f1b-b5eb-661b105cc8b3",
   "metadata": {},
   "source": [
    "This doesn't match up with the canonical number of story edits:\n",
    "```\n",
    "create new story       242\n",
    "edit existing story    104\n",
    "```\n",
    "\n",
    "These edits only go back to 2022-06-30 (81 days ago), so old data won't have been purged yet.\n",
    "\n",
    "Some edits to existing stories probably aren't captured because the user uses the \"plain\" textbox interface rather than the story builder (sidenote: we should add a change tag when the story builder is used.)\n",
    "\n",
    "But the main explanation is probably ad blockers. Not much we can do about that, but something to keep in mind.\n",
    "\n",
    "It's also strange that the all the events have `story_already_exists == False`. I'm sure someone has opened the story builder on an existing article (without an adblocker) at least once... "
   ]
  },
  {
   "cell_type": "code",
   "execution_count": 20,
   "id": "ad174e7f-2305-40f9-b7cc-352b7addfa7c",
   "metadata": {},
   "outputs": [
    {
     "data": {
      "text/plain": [
       "mobile web    682\n",
       "desktop         2\n",
       "Name: access_method, dtype: int64"
      ]
     },
     "execution_count": 20,
     "metadata": {},
     "output_type": "execute_result"
    }
   ],
   "source": [
    "contributor_events[\"access_method\"].value_counts()"
   ]
  },
  {
   "cell_type": "markdown",
   "id": "ba4d5ac3-292a-4995-bc33-5b8dab451c03",
   "metadata": {},
   "source": [
    "The story builder is only accessible through the mobile web interface, but if you combine its URL path with the desktop hostname, you can load it within the desktop interface, so that's what I assumed happened with these two events."
   ]
  },
  {
   "cell_type": "code",
   "execution_count": null,
   "id": "c1c79cb0-251f-45f9-a668-02496fdd2527",
   "metadata": {},
   "outputs": [],
   "source": [
    "contributor_events.query(\"access_method == 'desktop'\")"
   ]
  },
  {
   "cell_type": "code",
   "execution_count": 23,
   "id": "41b66dde-5f1f-4600-b0af-80d3b9eebaaa",
   "metadata": {},
   "outputs": [
    {
     "data": {
      "text/plain": [
       "Kucing                      36\n",
       "Museum_Sejarah_Jawa         18\n",
       "Tiram                       18\n",
       "Borobudur                   17\n",
       "Museum_Benteng_Vredeburg    15\n",
       "Name: context_page_title, dtype: int64"
      ]
     },
     "execution_count": 23,
     "metadata": {},
     "output_type": "execute_result"
    }
   ],
   "source": [
    "contributor_events[\"context_page_title\"].value_counts().head()"
   ]
  },
  {
   "cell_type": "code",
   "execution_count": null,
   "id": "e936abb8-8853-49e6-a426-10cf6aa54c9e",
   "metadata": {},
   "outputs": [],
   "source": [
    "contributor_events[\"publish_failure_message\"].value_counts()"
   ]
  },
  {
   "cell_type": "code",
   "execution_count": 26,
   "id": "1ec80d33-5df8-47ef-bbbd-f3836c16b420",
   "metadata": {},
   "outputs": [
    {
     "data": {
      "text/plain": [
       "                                       7\n",
       "Tiram                                  5\n",
       "Museum Balla Lompoa                    4\n",
       "P                                      4\n",
       "Mengenal Museum Fatahillah Jakarta     4\n",
       "                                      ..\n",
       "Benteng Vredeburg 1760-1799            1\n",
       "Bangunan Museum Kereta Api Ambarawa    1\n",
       "Diorama Mataraman's Room               1\n",
       "Koleksi Museum Kereta Api Ambarawa     1\n",
       "Terbentuknya Danau Toba                1\n",
       "Name: story_title, Length: 109, dtype: int64"
      ]
     },
     "execution_count": 26,
     "metadata": {},
     "output_type": "execute_result"
    }
   ],
   "source": [
    "contributor_events[\"story_title\"].value_counts()"
   ]
  },
  {
   "cell_type": "markdown",
   "id": "d2473ba8-c4a3-4d19-bb60-6a3f12c388d2",
   "metadata": {},
   "source": [
    "Odd that we should have a bunch with the title being an empty string. If the page hasn't been created yet, it should be null."
   ]
  },
  {
   "cell_type": "code",
   "execution_count": null,
   "id": "6cfdc18f-1172-4b0a-98a5-6b4169f257c2",
   "metadata": {},
   "outputs": [],
   "source": [
    "contributor_events.query(\"story_title == ''\")"
   ]
  },
  {
   "cell_type": "markdown",
   "id": "8edb6c5a-2678-4ee2-9c77-07e4452d1b56",
   "metadata": {},
   "source": [
    "Ahh, all of these are publishing failures where the failure message is \"Masukkan judul Wikistories\" (\"Enter the Wikistories title\"). It seems like the submitted title is recorded with `publish_failure`, which in this case is accurately an empty string."
   ]
  },
  {
   "cell_type": "code",
   "execution_count": null,
   "id": "49fce3d1-3922-456e-83c0-49250860a9bd",
   "metadata": {},
   "outputs": [],
   "source": [
    "contributor_events.query(\"publish_failure_message == 'Wikistories dengan judul tersebut sudah terbit. Silakan masukkan judul yang lain.'\")"
   ]
  },
  {
   "cell_type": "code",
   "execution_count": 34,
   "id": "d5253759-79d7-4449-a752-cd3c17e98b9a",
   "metadata": {},
   "outputs": [
    {
     "data": {
      "text/plain": [
       "1000+      174\n",
       "0          144\n",
       "100-999    136\n",
       "5-99       119\n",
       "1-4        111\n",
       "Name: user_edit_count_bucket, dtype: int64"
      ]
     },
     "execution_count": 34,
     "metadata": {},
     "output_type": "execute_result"
    }
   ],
   "source": [
    "contributor_events[\"user_edit_count_bucket\"].value_counts()"
   ]
  },
  {
   "cell_type": "code",
   "execution_count": null,
   "id": "3bddc7b8-5f3b-448e-8d33-4d782cf397e7",
   "metadata": {},
   "outputs": [],
   "source": [
    "contributor_events[[\"user_name\", \"user_edit_count_bucket\"]].sample(10)"
   ]
  },
  {
   "cell_type": "markdown",
   "id": "bcd121fb-b562-4928-ba66-0e6e0f5a22d1",
   "metadata": {},
   "source": [
    "All the sampled users' buckets match their real edit count. Just being thorough :)"
   ]
  },
  {
   "cell_type": "code",
   "execution_count": null,
   "id": "c12b0f27-4bb6-48c7-af3d-54f8680d62f1",
   "metadata": {},
   "outputs": [],
   "source": [
    "contributor_events[\"user_name\"].value_counts().head(10)"
   ]
  },
  {
   "cell_type": "markdown",
   "id": "49184f58-65ec-4cc5-96fd-6511657ea87e",
   "metadata": {},
   "source": [
    "It looks like the main cause of the mismatch between these event counts and the [list of top editors](https://docs.google.com/spreadsheets/d/11ojrMXgIopctd7_CXeoAJcLfzCLW5drW4I6b7lPl5SI/edit#gid=318426327) is not deleted stories but the fact that a couple of weeks has passed since I pulled the list. However, I should still add edits to deleted pages to my basic stats notebook."
   ]
  },
  {
   "cell_type": "markdown",
   "id": "10f3d9d1-14fa-477f-bd10-604cd53dafaa",
   "metadata": {},
   "source": [
    "# Consumer event"
   ]
  },
  {
   "cell_type": "code",
   "execution_count": 7,
   "id": "c12b63d1-1905-4fdd-a6a4-ecba1a7ccb40",
   "metadata": {},
   "outputs": [],
   "source": [
    "consumer_events = wmf.presto.run(\"\"\"\n",
    "SELECT\n",
    "    FROM_ISO8601_TIMESTAMP(meta.dt) AS dt,\n",
    "    meta.domain AS domain,\n",
    "    access_method,\n",
    "    activity_session_id,\n",
    "    event_type,\n",
    "    experiment_entry_date,\n",
    "    experiment_group,\n",
    "    next_story_opened,\n",
    "    page_story_count,\n",
    "    page_title,\n",
    "    page_visible_time,\n",
    "    pageview_id,\n",
    "    referrer_type,\n",
    "    session_days,\n",
    "    session_is_first_of_day,\n",
    "    story_completed,\n",
    "    story_frame_count,\n",
    "    story_frames_viewed,\n",
    "    story_open_time,\n",
    "    story_title\n",
    "FROM event.mediawiki_wikistories_consumption_event\n",
    "WHERE\n",
    "    year >= 0\n",
    "\"\"\")"
   ]
  },
  {
   "cell_type": "code",
   "execution_count": null,
   "id": "4009437a-1c63-4da3-a8f4-0ea1da710fcb",
   "metadata": {},
   "outputs": [],
   "source": [
    "consumer_events.describe(include=\"all\")"
   ]
  },
  {
   "cell_type": "code",
   "execution_count": 62,
   "id": "fd74aca7-ebe0-48c0-a4d2-0ef340009d9b",
   "metadata": {},
   "outputs": [],
   "source": [
    "impressions = consumer_events.query(\"event_type == 'story_impression'\")[[\n",
    "    \"dt\",\n",
    "    \"domain\",\n",
    "    \"access_method\",\n",
    "    \"activity_session_id\",\n",
    "    \"page_story_count\",\n",
    "    \"page_title\",\n",
    "    \"pageview_id\"\n",
    "]]"
   ]
  },
  {
   "cell_type": "code",
   "execution_count": 64,
   "id": "78bcf3b9-33a8-41d7-be49-a4e8269fee05",
   "metadata": {},
   "outputs": [
    {
     "name": "stdout",
     "output_type": "stream",
     "text": [
      "<class 'pandas.core.frame.DataFrame'>\n",
      "Int64Index: 799 entries, 1 to 1248\n",
      "Data columns (total 7 columns):\n",
      " #   Column               Non-Null Count  Dtype \n",
      "---  ------               --------------  ----- \n",
      " 0   dt                   799 non-null    object\n",
      " 1   domain               799 non-null    object\n",
      " 2   access_method        799 non-null    object\n",
      " 3   activity_session_id  799 non-null    object\n",
      " 4   page_story_count     799 non-null    int64 \n",
      " 5   page_title           799 non-null    object\n",
      " 6   pageview_id          799 non-null    object\n",
      "dtypes: int64(1), object(6)\n",
      "memory usage: 49.9+ KB\n"
     ]
    }
   ],
   "source": [
    "impressions.info()"
   ]
  },
  {
   "cell_type": "code",
   "execution_count": null,
   "id": "6d14f767-7e23-4ea8-8b59-45a042c15b7a",
   "metadata": {},
   "outputs": [],
   "source": [
    "impressions.describe(include=\"all\")"
   ]
  },
  {
   "cell_type": "code",
   "execution_count": 91,
   "id": "bc3d9ec6-110a-4bae-a052-5f8a11ca8ddf",
   "metadata": {},
   "outputs": [],
   "source": [
    "views = consumer_events.query(\"event_type == 'story_view'\")[[\n",
    "    \"dt\",\n",
    "    \"domain\",\n",
    "    \"access_method\",\n",
    "    \"activity_session_id\",\n",
    "    \"event_type\",\n",
    "    \"page_story_count\",\n",
    "    \"page_title\",\n",
    "    \"pageview_id\",\n",
    "    \"story_completed\",\n",
    "    \"story_frame_count\",\n",
    "    \"story_frames_viewed\",\n",
    "    \"story_open_time\",\n",
    "    \"story_title\"\n",
    "]]"
   ]
  },
  {
   "cell_type": "code",
   "execution_count": null,
   "id": "7c9c64ee-8c76-4c66-bd10-f9176d69e5ba",
   "metadata": {},
   "outputs": [],
   "source": [
    "views.describe(include=\"all\")"
   ]
  },
  {
   "cell_type": "code",
   "execution_count": null,
   "id": "fd4bb895-9666-47e5-8465-8672695532ac",
   "metadata": {},
   "outputs": [],
   "source": [
    "views.sample(5)"
   ]
  },
  {
   "cell_type": "markdown",
   "id": "9cdb70c9-dc1d-4a1f-86d2-7339658d6a3f",
   "metadata": {},
   "source": [
    "Each pageview where we have events has an impression, which is good."
   ]
  },
  {
   "cell_type": "code",
   "execution_count": 74,
   "id": "348e3614-b099-4b85-8cef-a99781ebd3a4",
   "metadata": {},
   "outputs": [
    {
     "data": {
      "text/plain": [
       "True"
      ]
     },
     "execution_count": 74,
     "metadata": {},
     "output_type": "execute_result"
    }
   ],
   "source": [
    "(\n",
    "    consumer_events\n",
    "    .groupby(\"pageview_id\")\n",
    "    [\"event_type\"]\n",
    "    .value_counts()\n",
    "    .unstack()\n",
    "    .fillna(0)\n",
    "    .astype(int)\n",
    "    [\"story_impression\"]\n",
    "    .all()\n",
    ")"
   ]
  },
  {
   "cell_type": "markdown",
   "id": "fda12a6d-811a-4767-82be-e3aa62c115e0",
   "metadata": {},
   "source": [
    "Histogram of the number of story views per pageview:"
   ]
  },
  {
   "cell_type": "code",
   "execution_count": 89,
   "id": "3da77e02-3638-4d8f-8df9-14c063103139",
   "metadata": {},
   "outputs": [
    {
     "data": {
      "text/plain": [
       "<AxesSubplot:ylabel='Frequency'>"
      ]
     },
     "execution_count": 89,
     "metadata": {},
     "output_type": "execute_result"
    },
    {
     "data": {
      "image/png": "[encoded data removed]",
      "text/plain": [
       "<Figure size 640x480 with 1 Axes>"
      ]
     },
     "metadata": {},
     "output_type": "display_data"
    }
   ],
   "source": [
    "(\n",
    "    consumer_events\n",
    "    .groupby(\"pageview_id\")\n",
    "    [\"event_type\"]\n",
    "    .value_counts()\n",
    "    .unstack()\n",
    "    .fillna(0)\n",
    "    .astype(int)\n",
    "    [\"story_view\"]\n",
    "    .plot.hist()\n",
    ")"
   ]
  },
  {
   "cell_type": "code",
   "execution_count": 76,
   "id": "413ea865-3115-4282-b88d-693f4cb102e1",
   "metadata": {},
   "outputs": [
    {
     "data": {
      "text/plain": [
       "Koleksi Museum History of Java             21\n",
       "Artikel yang baru saja saya terjemahkan    15\n",
       "Tiram                                      14\n",
       "Kunjungan                                  12\n",
       "Kucing peliharaan                          11\n",
       "Sekilas Museum Balla Lompoa                11\n",
       "Museum Balla Lompoa                        11\n",
       "Refleks pelempengan kucing                  9\n",
       "Bangunan Monumen Nasional                   9\n",
       "Mengenal Museum Fatahillah Jakarta          9\n",
       "Name: story_title, dtype: int64"
      ]
     },
     "execution_count": 76,
     "metadata": {},
     "output_type": "execute_result"
    }
   ],
   "source": [
    "views[\"story_title\"].value_counts().head(10)"
   ]
  },
  {
   "cell_type": "code",
   "execution_count": 77,
   "id": "23f0050c-3e44-4a6c-8b8d-f452f0aab2e4",
   "metadata": {},
   "outputs": [
    {
     "data": {
      "text/plain": [
       "Kucing                       48\n",
       "Museum_Sejarah_Jawa          38\n",
       "Borobudur                    29\n",
       "Museum_Benteng_Vredeburg     22\n",
       "Museum_Balla_Lompoa          22\n",
       "Tiram                        19\n",
       "Meraxes_gigas                15\n",
       "Museum_Nasional_Indonesia    14\n",
       "Indonesia                    11\n",
       "Monumen_Nasional              9\n",
       "Name: page_title, dtype: int64"
      ]
     },
     "execution_count": 77,
     "metadata": {},
     "output_type": "execute_result"
    }
   ],
   "source": [
    "views[\"page_title\"].value_counts().head(10)"
   ]
  },
  {
   "cell_type": "markdown",
   "id": "57c78500-cc30-4149-8f96-c53bc393f42b",
   "metadata": {},
   "source": [
    "History of story open times less than 100 seconds:"
   ]
  },
  {
   "cell_type": "code",
   "execution_count": 84,
   "id": "c4d0964a-f83b-4407-8e10-97c6d563ce38",
   "metadata": {},
   "outputs": [
    {
     "data": {
      "text/plain": [
       "<AxesSubplot:ylabel='Frequency'>"
      ]
     },
     "execution_count": 84,
     "metadata": {},
     "output_type": "execute_result"
    },
    {
     "data": {
      "image/png": "[encoded data removed]",
      "text/plain": [
       "<Figure size 640x480 with 1 Axes>"
      ]
     },
     "metadata": {},
     "output_type": "display_data"
    }
   ],
   "source": [
    "(views[\"story_open_time\"] / 1000)[lambda x: x < 100].plot.hist()"
   ]
  },
  {
   "cell_type": "markdown",
   "id": "a324c6f8-ddc8-4dd3-aa2a-db007d9f5084",
   "metadata": {},
   "source": [
    "Story open times of 100 seconds or more:"
   ]
  },
  {
   "cell_type": "code",
   "execution_count": 85,
   "id": "59c91364-a862-4a17-8cca-bf74f472f456",
   "metadata": {},
   "outputs": [
    {
     "data": {
      "text/plain": [
       "385     128.975\n",
       "387     825.737\n",
       "441     150.629\n",
       "467     133.126\n",
       "544     167.364\n",
       "708     299.616\n",
       "861     159.592\n",
       "869     129.039\n",
       "873     340.937\n",
       "886     300.282\n",
       "915     328.802\n",
       "954     132.456\n",
       "964     400.696\n",
       "968     198.878\n",
       "980     153.962\n",
       "1011    106.771\n",
       "1106    102.033\n",
       "1126    133.806\n",
       "Name: story_open_time, dtype: float64"
      ]
     },
     "execution_count": 85,
     "metadata": {},
     "output_type": "execute_result"
    }
   ],
   "source": [
    "(views[\"story_open_time\"] / 1000)[lambda x: x >= 100]"
   ]
  }
 ],
 "metadata": {
  "kernelspec": {
   "display_name": "Python 3 (ipykernel)",
   "language": "python",
   "name": "python3"
  },
  "language_info": {
   "codemirror_mode": {
    "name": "ipython",
    "version": 3
   },
   "file_extension": ".py",
   "mimetype": "text/x-python",
   "name": "python",
   "nbconvert_exporter": "python",
   "pygments_lexer": "ipython3",
   "version": "3.7.13"
  }
 },
 "nbformat": 4,
 "nbformat_minor": 5
}
