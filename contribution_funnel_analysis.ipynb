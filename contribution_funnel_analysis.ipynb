{
 "cells": [
  {
   "cell_type": "code",
   "execution_count": 1,
   "id": "47559788-c534-47bc-90f8-18798a696c3b",
   "metadata": {},
   "outputs": [],
   "source": [
    "import wmfdata as wmf"
   ]
  },
  {
   "cell_type": "code",
   "execution_count": 3,
   "id": "31bf9588-a898-4e22-b1f8-d6abcf4c88d1",
   "metadata": {},
   "outputs": [],
   "source": [
    "contributor_event = wmf.presto.run(\"\"\"\n",
    "SELECT\n",
    "    FROM_ISO8601_TIMESTAMP(meta.dt) AS dt,\n",
    "    meta.domain AS domain,\n",
    "    access_method,\n",
    "    context_page_title,\n",
    "    event_type,\n",
    "    publish_failure_message,\n",
    "    story_already_exists,\n",
    "    story_title,\n",
    "    user_edit_count_bucket,\n",
    "    user_is_anonymous,\n",
    "    user_name\n",
    "FROM event.mediawiki_wikistories_contribution_event\n",
    "WHERE\n",
    "    year >= 0\n",
    "\"\"\")"
   ]
  },
  {
   "cell_type": "code",
   "execution_count": 4,
   "id": "01858bef-1395-47d7-9174-cec651efa419",
   "metadata": {},
   "outputs": [
    {
     "data": {
      "text/plain": [
       "story_builder_open    1870\n",
       "publish_success        643\n",
       "publish_failure         39\n",
       "Name: event_type, dtype: int64"
      ]
     },
     "execution_count": 4,
     "metadata": {},
     "output_type": "execute_result"
    }
   ],
   "source": [
    "contributor_event[\"event_type\"].value_counts()"
   ]
  },
  {
   "cell_type": "code",
   "execution_count": 9,
   "id": "ecb897be-8e22-4086-b13c-fe3e1b52887e",
   "metadata": {},
   "outputs": [
    {
     "data": {
      "text/plain": [
       "Wikistories dengan judul tersebut sudah terbit. Silakan masukkan judul yang lain.    12\n",
       "You are no longer logged in, so the action could not be completed.                   11\n",
       "Masukkan judul Wikistories                                                            8\n",
       "Name: publish_failure_message, dtype: int64"
      ]
     },
     "execution_count": 9,
     "metadata": {},
     "output_type": "execute_result"
    }
   ],
   "source": [
    "contributor_event.query(\"event_type == 'publish_failure'\")[\"publish_failure_message\"].value_counts().head(3)"
   ]
  },
  {
   "cell_type": "code",
   "execution_count": null,
   "id": "58edd3d7-2b00-400d-8c4c-24233e145581",
   "metadata": {},
   "outputs": [],
   "source": [
    "(\n",
    "    contributor_event\n",
    "    .query(\"event_type == 'publish_failure'\")\n",
    "    .query(\n",
    "        \"publish_failure_message == \"\n",
    "        \"'Wikistories dengan judul tersebut sudah terbit. Silakan masukkan judul yang lain.'\"\n",
    "    )\n",
    "    .sort_values(\"dt\")\n",
    ")"
   ]
  },
  {
   "cell_type": "code",
   "execution_count": null,
   "id": "5f33e4d6-d90c-42d0-8091-4c745768f3f1",
   "metadata": {},
   "outputs": [],
   "source": []
  }
 ],
 "metadata": {
  "kernelspec": {
   "display_name": "Python 3 (ipykernel)",
   "language": "python",
   "name": "python3"
  },
  "language_info": {
   "codemirror_mode": {
    "name": "ipython",
    "version": 3
   },
   "file_extension": ".py",
   "mimetype": "text/x-python",
   "name": "python",
   "nbconvert_exporter": "python",
   "pygments_lexer": "ipython3",
   "version": "3.7.13"
  }
 },
 "nbformat": 4,
 "nbformat_minor": 5
}
